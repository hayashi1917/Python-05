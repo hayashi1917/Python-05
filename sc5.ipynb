{
 "cells": [
  {
   "cell_type": "markdown",
   "metadata": {},
   "source": [
    "# 1. <a id='toc1_'></a>[科学技術計算5](#toc0_)\n",
    "\n",
    "ここでは固有値，特異値分解，主成分分析について説明する．"
   ]
  },
  {
   "cell_type": "code",
   "execution_count": null,
   "metadata": {},
   "outputs": [],
   "source": [
    "import numpy as np\n",
    "import scipy\n",
    "\n",
    "from numpy.linalg import inv, norm, solve, det, matrix_rank, cond, pinv, lstsq, eig, eigh, eigvals, eigvalsh\n",
    "from numpy import diag\n",
    "\n",
    "import matplotlib.pyplot as plt\n",
    "from matplotlib import rcParams\n",
    "rcParams[\"savefig.bbox\"] = \"tight\"\n",
    "\n",
    "from typing import List, Optional, Union, Tuple\n",
    "\n",
    "import sklearn\n",
    "from sklearn.decomposition import PCA\n",
    "from sklearn.datasets import fetch_olivetti_faces\n",
    "\n",
    "from matplotlib.pyplot import imshow\n"
   ]
  },
  {
   "cell_type": "markdown",
   "metadata": {},
   "source": [
    "**目次**<a id='toc0_'></a>    \n",
    "- 1. [科学技術計算5](#toc1_)    \n",
    "  - 1.1. [固有値についての線形代数と数値計算のアプローチ](#toc1_1_)    \n",
    "    - 1.1.1. [固有値と固有ベクトル](#toc1_1_1_)    \n",
    "    - 1.1.2. [実対称行列の対角化](#toc1_1_2_)    \n",
    "    - 1.1.3. [特性方程式](#toc1_1_3_)    \n",
    "    - 1.1.4. [相似変換](#toc1_1_4_)    \n",
    "    - 1.1.5. [数値的な解法](#toc1_1_5_)    \n",
    "    - 1.1.6. [numpyとscipyの実装](#toc1_1_6_)    \n",
    "    - 1.1.7. [固有値の例](#toc1_1_7_)    \n",
    "      - 1.1.7.1. [ゲルシュゴリンの定理](#toc1_1_7_1_)    \n",
    "    - 1.1.8. [固有ベクトルの例](#toc1_1_8_)    \n",
    "  - 1.2. [べき乗法と関連手法](#toc1_2_)    \n",
    "    - 1.2.1. [べき乗法（power method）](#toc1_2_1_)    \n",
    "    - 1.2.2. [逆反復法（inverse iteration）](#toc1_2_2_)    \n",
    "    - 1.2.3. [シフト付き逆反復法（shifted inverse iteration）](#toc1_2_3_)    \n",
    "    - 1.2.4. [レイリー商反復（Rayleigh quotient iteration）](#toc1_2_4_)    \n",
    "  - 1.3. [QR法](#toc1_3_)    \n",
    "    - 1.3.1. [単純なQR分解の反復適用](#toc1_3_1_)    \n",
    "    - 1.3.2. [ハウスホルダー法（Householder method）](#toc1_3_2_)    \n",
    "      - 1.3.2.1. [鏡映変換](#toc1_3_2_1_)    \n",
    "      - 1.3.2.2. [ハウスホルダー変換](#toc1_3_2_2_)    \n",
    "        - 1.3.2.2.1. [1列目](#toc1_3_2_2_1_)    \n",
    "        - 1.3.2.2.2. [2列目](#toc1_3_2_2_2_)    \n",
    "        - 1.3.2.2.3. [$i=1,2,\\ldots,n-2$列目](#toc1_3_2_2_3_)    \n",
    "    - 1.3.3. [ギブンス変換](#toc1_3_3_)    \n",
    "      - 1.3.3.1. [実装](#toc1_3_3_1_)    \n",
    "      - 1.3.3.2. [ギブンス回転による三重対角行列の上三角化（QR分解）](#toc1_3_3_2_)    \n",
    "    - 1.3.4. [QR法のまとめ](#toc1_3_4_)    \n",
    "  - 1.4. [特異値分解（singular value decomposision）](#toc1_4_)    \n",
    "    - 1.4.1. [固有値との関係](#toc1_4_1_)    \n",
    "    - 1.4.2. [計算手法](#toc1_4_2_)    \n",
    "    - 1.4.3. [numpyとscipyの実装](#toc1_4_3_)    \n",
    "  - 1.5. [主成分分析（principal component analysis）](#toc1_5_)    \n",
    "    - 1.5.1. [第1主成分](#toc1_5_1_)    \n",
    "    - 1.5.2. [第$i$主成分](#toc1_5_2_)    \n",
    "    - 1.5.3. [次元削減](#toc1_5_3_)    \n",
    "    - 1.5.4. [累積寄与率](#toc1_5_4_)    \n",
    "    - 1.5.5. [実装（$m > n$の場合）](#toc1_5_5_)    \n",
    "    - 1.5.6. [scikit-learnによる実装](#toc1_5_6_)    \n",
    "    - 1.5.7. [実装（$m < n$の場合）：顔画像データセットの主成分分析](#toc1_5_7_)    \n",
    "      - 1.5.7.1. [固有顔](#toc1_5_7_1_)    \n",
    "  - 1.6. [課題](#toc1_6_)    \n",
    "    - 1.6.1. [課題05-1：QR法による固有値分解](#toc1_6_1_)    \n",
    "    - 1.6.2. [課題05-2：ハウスホルダー変換によるQR分解](#toc1_6_2_)    \n",
    "      - 1.6.2.1. [「一般の行列を三重対角行列に変換する」ためのハウスホルダー法の復習](#toc1_6_2_1_)    \n",
    "      - 1.6.2.2. [「一般の行列をQR分解する」ためのハウスホルダー変換](#toc1_6_2_2_)    \n",
    "      - 1.6.2.3. [課題](#toc1_6_2_3_)    \n",
    "    - 1.6.3. [課題05-3：SVDによる主成分分析](#toc1_6_3_)    \n",
    "\n",
    "<!-- vscode-jupyter-toc-config\n",
    "\tnumbering=true\n",
    "\tanchor=true\n",
    "\tflat=false\n",
    "\tminLevel=1\n",
    "\tmaxLevel=6\n",
    "\t/vscode-jupyter-toc-config -->\n",
    "<!-- THIS CELL WILL BE REPLACED ON TOC UPDATE. DO NOT WRITE YOUR TEXT IN THIS CELL -->"
   ]
  },
  {
   "cell_type": "markdown",
   "metadata": {},
   "source": [
    "## 1.1. <a id='toc1_1_'></a>[固有値についての線形代数と数値計算のアプローチ](#toc0_)\n",
    "\n",
    "### 1.1.1. <a id='toc1_1_1_'></a>[固有値と固有ベクトル](#toc0_)\n",
    "\n",
    "ある$n$次正方行列$A \\in R^{n \\times n}$に対して\n",
    "$$\n",
    "A \\boldsymbol{x} = \\lambda \\boldsymbol{x}\n",
    "$$\n",
    "を満たす実数$\\lambda \\in R$を行列$A$の固有値（eigenvalue），\n",
    "$n$次元ベクトル$\\boldsymbol{x} \\in R^n$をその固有値に対応する固有ベクトル（eigenvector）と呼ぶ．\n",
    "重複するものを含めると固有値は$n$個存在し，\n",
    "$\\lambda_1, \\ldots, \\lambda_n \\in C$と書く．\n",
    "実行列であっても一般に固有値は複素数であり，\n",
    "対応する固有ベクトル$\\boldsymbol{x}_1, \\ldots, \\boldsymbol{x}_n \\in C^n$も複素ベクトルである．\n",
    "\n",
    "実応用では実対称行列$A = A^T$を扱う場合が多く，その場合には固有値$\\lambda_1, \\ldots, \\lambda_n \\in R$はすべて実数となり，固有値ベクトル$\\boldsymbol{x}_1, \\ldots, \\boldsymbol{x}_n \\in R^n$も実数ベクトルとなる．\n",
    "以下では主に実対称行列を扱う．\n",
    "\n",
    "実対称行列の$n$個の固有値は実数であるので，大小関係を（重複するものは等号で）以下のように定義する．\n",
    "$$\n",
    "\\lambda_1 \\ge \\lambda_2 \\ge \\cdots \\ge \\lambda_{n-1} \\ge \\lambda_n\n",
    "$$\n",
    "このうち$\\lambda_1$を最大固有値，$\\lambda_n$を最小固有値と呼び，\n",
    "それぞれ$\\lambda_\\mathrm{max}, \\lambda_\\mathrm{min}$と書くこともある．\n",
    "行列$A$の固有値という意味で，$\\lambda_1(A), \\ldots, \\lambda_n(A)$\n",
    "や$\\lambda_\\mathrm{max}(A), \\lambda_\\mathrm{min}(A)$と\n",
    "書く場合もある．\n",
    "\n"
   ]
  },
  {
   "cell_type": "markdown",
   "metadata": {},
   "source": [
    "### 1.1.2. <a id='toc1_1_2_'></a>[実対称行列の対角化](#toc0_)\n",
    "\n",
    "実対称行列の異なる固有値$\\lambda_i \\neq \\lambda_j$に対応する固有ベクトル$\\boldsymbol{x}_i, \\boldsymbol{x}_j$は直交するので，固有ベクトルを列に並べた行列\n",
    "$$\n",
    "U = [\\boldsymbol{x}_1 \\ \\cdots \\ \\boldsymbol{x}_n] \\in R^{n \\times n}\n",
    "$$\n",
    "は直交行列$U U^T = U^T U = I$となる．\n",
    "\n",
    "固有値を対角成分に並べた対角行列を\n",
    "$$\n",
    "D =\n",
    "\\begin{pmatrix}\n",
    "\\lambda_1 \\\\\n",
    "& \\lambda_2 \\\\\n",
    "&& \\ddots \\\\\n",
    "&&& \\lambda_n\n",
    "\\end{pmatrix}\n",
    " \\in R^{n \\times n}\n",
    "$$\n",
    "とすると，\n",
    "\\begin{align*}\n",
    "A \\boldsymbol{x}_1 &= \\lambda_1 \\boldsymbol{x}_1 \\\\\n",
    "A \\boldsymbol{x}_2 &= \\lambda_2 \\boldsymbol{x}_2 \\\\\n",
    "\\vdots \\\\\n",
    "A \\boldsymbol{x}_n &= \\lambda_n \\boldsymbol{x}_n \\\\\n",
    "\\end{align*}\n",
    "なので，これらをまとめて\n",
    "$$\n",
    "AU = UD\n",
    "$$\n",
    "と表せる．すると行列$A$は次のように変形できる．\n",
    "$$\n",
    "U^T A U = D\n",
    "$$\n",
    "これを対角化（diagonalization）と呼ぶ．\n",
    "また等価であるが行列$A$は次のように分解できる．\n",
    "$$\n",
    "A = U D U^T\n",
    "$$\n",
    "これを固有値分解（eigenvalue decomposition）と呼ぶ．\n",
    "また数値解析においては実対称行列に対するシュール分解（symmetric Schur decomposition）とも呼ばれる\n",
    "（一般の行列に対するシュール分解は$D$が対角行列ではなく上三角行列である）．"
   ]
  },
  {
   "cell_type": "markdown",
   "metadata": {},
   "source": [
    "### 1.1.3. <a id='toc1_1_3_'></a>[特性方程式](#toc0_)\n",
    "\n",
    "固有値分解（対角化）を行うには，固有値と固有ベクトルを求める．\n",
    "まず\n",
    "\\begin{align*}\n",
    "A \\boldsymbol{x} &= \\lambda \\boldsymbol{x} \\\\\n",
    "(A - \\lambda I) \\boldsymbol{x} &= \\boldsymbol{0}\n",
    "\\end{align*}\n",
    "だから，この斉次方程式が非自明な解を持つためには\n",
    "$A - \\lambda I$のランクが$n$未満，つまり\n",
    "$$\n",
    "\\mathrm{det}(A - \\lambda I) = 0\n",
    "$$\n",
    "である必要がある．これを特性方程式と呼ぶ．\n",
    "これは$n$次多項式であり，その$n$個の根（つまり固有値）$\\lambda_1, \\ldots, \\lambda_n$を求め，\n",
    "それぞれについて\n",
    "$\\| \\boldsymbol{x} \\| = 1$という条件の元で\n",
    "$A \\boldsymbol{x} = \\lambda_i \\boldsymbol{x}$の解（固有ベクトル）を求める．\n",
    "\n",
    "上記は線形代数で学ぶ手順であるが，数値解析の手段としては問題がある．$n>5$についての方程式には代数的解法が存在しないため，数値的に求める必要がある．また$n$次多項式は$n$が大きくなると，微小な変化に対して急激に値が変化するため，数値的に安定ではない．したがって，上記の手順以外の，数値的に安定な方法を用いる必要がある．\n",
    "\n",
    "### 1.1.4. <a id='toc1_1_4_'></a>[相似変換](#toc0_)\n",
    "\n",
    "実対称行列$A$に対して，直交行列$P$による次式の変換\n",
    "$$\n",
    "B = P^T A P\n",
    "$$\n",
    "を相似変換と呼び，$A$と$B$は相似であるといい，$A \\sim B$と書くことがある．\n",
    "次式のように，相似変換によって固有値は変化しない．\n",
    "$$\n",
    "B = P^T A P = P^T U^T D U P = U^{'T} D U'\n",
    "$$\n",
    "ここで$U' = UP$である．\n",
    "したがって$A$の固有値を求める場合には，\n",
    "相似変換によってできるだけ固有値計算が数値計算的に簡単で安定になるような行列$B$\n",
    "へと変換するというアプローチを取ることが一般的である．\n",
    "\n",
    "以下で説明するアプローチでは，\n",
    "ハウスホルダー変換，ギブンス変換，QR変換が相似変換を求めるアルゴリズムであり，\n",
    "計算しやすい行列$B$として上ヘッセンベルグ行列，上三角行列，三重対角行列などを利用する．"
   ]
  },
  {
   "cell_type": "markdown",
   "metadata": {},
   "source": [
    "### 1.1.5. <a id='toc1_1_5_'></a>[数値的な解法](#toc0_)\n",
    "\n",
    "対称行列の固有値と固有ベクトルを数値的に求める方法は多様な手法があり，また求めようとする行列$A$の性質によっても異なる．\n",
    "\n",
    "- 1つの固有値とその固有ベクトルを求める反復方法\n",
    "    - **べき乗法，逆反復法**\n",
    "    - 固有値の近似値から開始する方法\n",
    "        - **シフト付き逆反復法，レイリー商反復**\n",
    "- すべての固有値と固有ベクトルを同時に反復的に求める方法\n",
    "    - **QR法**\n",
    "    - ヤコビ法\n",
    "- 固有値を求めやすい行列（三重対角等）に変換する方法\n",
    "    - **ハウスホルダー変換による三重対角化**\n",
    "    - ギブンス変換による三重対角化\n",
    "- 固有値を求めやすい行列（三重対角等）の固有値を求める方法\n",
    "    - その後べき乗法などで固有ベクトルを計算\n",
    "        - スツルム列（Strum sequence）を用いる二分法\n",
    "            - 一部の固有値を選んで計算も可能\n",
    "    - 同時に固有ベクトルも計算（対角化）\n",
    "        - QR法\n",
    "            - **ギブンス変換による三重対角行列の上三角化**\n",
    "            - シフト（原点移動）を用いたQR法：現在標準的に使われている\n",
    "        - 分割統治（divide-and-conquer）法：並列計算向き，現在標準的に使われている\n",
    "\n",
    "これらは小規模な密の実対称行列に対する手法であるが，これら以外にも，\n",
    "一般の非対称行列には上ヘッセンベルグ行列への変換とQR法，大規模疎行列にはランチョス法などがある．\n",
    "\n",
    "一般的に言えることは以下のことである．\n",
    "\n",
    "- 対称行列と非対称行列では計算手法が異なる．対称行列用のアルゴリズムのほうが計算効率が良い（計算量が少ない，必要メモリ量が少ない）．非対称行列用のアルゴリズムは対称行列にも適用できるが，不要な計算をしていることになる．\n",
    "- 固有値を求めてから，固有ベクトルを求めるアルゴリズムが多い．固有値だけが必要なのに，固有ベクトルまで計算するアルゴリズムを用いるのは不要な計算である．\n",
    "\n",
    "以下の説明では，上記の様々なアルゴリズムとアプローチのなかから，\n",
    "まず1つの固有値と固有ベクトルを求める手法としてべき乗法とその関連手法を説明する．\n",
    "次に，すべての固有値を求める手法としてQR変換を用いるQR法を説明する．\n",
    "このQR変換は計算量の多いQR分解を用いるため，\n",
    "QR分解の計算量の少ない行列へと変換するためのハウスホルダー変換とギブンス変換を説明する．\n",
    "\n",
    "その前に，まずnumpyとscipyに実装されている固有値・固有ベクトル計算のソルバーを紹介する\n",
    "（なお内部では分割統治法が用いられているが説明は省略する）．"
   ]
  },
  {
   "cell_type": "markdown",
   "metadata": {},
   "source": [
    "### 1.1.6. <a id='toc1_1_6_'></a>[numpyとscipyの実装](#toc0_)\n",
    "\n",
    "それぞれのライブラリで以下の関数が提供されている．\n",
    "一般の行列用は，対称行列・非対称行列など任意の正方行列を扱う．\n",
    "対称行列用の関数名の末尾の\"h\"はエルミート行列（Hermite，実行列の場合は対称行列）を表す．\n",
    "これらはどれも（一部を除き）複素行列を扱える．\n",
    "\n",
    "- 固有値のみを求める\n",
    "    - 一般の行列の固有値を求める\n",
    "        - https://docs.scipy.org/doc/scipy/reference/generated/scipy.linalg.eigvals.html\n",
    "        - https://numpy.org/doc/stable/reference/generated/numpy.linalg.eigvals.html\n",
    "    - 対称行列の固有値を求める\n",
    "        - https://docs.scipy.org/doc/scipy/reference/generated/scipy.linalg.eigvalsh.html\n",
    "        - https://numpy.org/doc/stable/reference/generated/numpy.linalg.eigvalsh.html\n",
    "    - 実対称三重対角行列の固有値を求める\n",
    "        - https://docs.scipy.org/doc/scipy/reference/generated/scipy.linalg.eigvalsh_tridiagonal.html\n",
    "    - 対称帯行列の固有値を求める\n",
    "        - https://docs.scipy.org/doc/scipy/reference/generated/scipy.linalg.eigvals_banded.html\n",
    "\n",
    "- 固有値と固有ベクトルを求める\n",
    "    - 一般の行列の固有値と固有ベクトルを求める\n",
    "        - https://docs.scipy.org/doc/scipy/reference/generated/scipy.linalg.eig.html\n",
    "        - https://numpy.org/doc/stable/reference/generated/numpy.linalg.eig.html\n",
    "    - 対称行列の固有値と固有ベクトルを求める\n",
    "        - https://docs.scipy.org/doc/scipy/reference/generated/scipy.linalg.eigh.html\n",
    "        - https://numpy.org/doc/stable/reference/generated/numpy.linalg.eigh.html\n",
    "    - 実対称三重対角行列の固有値と固有ベクトルを求める\n",
    "        - https://docs.scipy.org/doc/scipy/reference/generated/scipy.linalg.eigh_tridiagonal.html\n",
    "    - 対称帯行列の固有値と固有ベクトルを求める\n",
    "        - https://docs.scipy.org/doc/scipy/reference/generated/scipy.linalg.eig_banded.html\n"
   ]
  },
  {
   "cell_type": "markdown",
   "metadata": {},
   "source": [
    "\n",
    "上記の関数の内部的には，LAPACKの関数を利用している．\n",
    "\n",
    "- 一般行列用`eig()`\n",
    "  - https://github.com/scipy/scipy/blob/f990b1d2471748c79bc4260baf8923db0a5248af/scipy/linalg/_decomp.py#L241\n",
    "    - [dgeev](https://github.com/Reference-LAPACK/lapack/blob/master/SRC/dgeev.f)\n",
    "- 対称行列用`eigh()`\n",
    "  - https://github.com/scipy/scipy/blob/f990b1d2471748c79bc4260baf8923db0a5248af/scipy/linalg/_decomp.py#L546)\n",
    "      - [dsyev](https://github.com/Reference-LAPACK/lapack/blob/master/SRC/dsyev.f), [dsyevd](https://github.com/Reference-LAPACK/lapack/blob/master/SRC/dsyevd.f), [dsyevr](https://github.com/Reference-LAPACK/lapack/blob/master/SRC/dsyevr.f), [dsyevx](https://github.com/Reference-LAPACK/lapack/blob/master/SRC/dsyevx.f)\n",
    "- 実対称三重対角用`eigh_tridiagonal()`\n",
    "  - https://github.com/scipy/scipy/blob/f990b1d2471748c79bc4260baf8923db0a5248af/scipy/linalg/_decomp.py#L1322C28-L1322C32\n",
    "      - [dstev](https://github.com/Reference-LAPACK/lapack/blob/master/SRC/dstev.f)\n",
    "- 対称帯行列用`eig_banded()`\n",
    "  - https://github.com/scipy/scipy/blob/f990b1d2471748c79bc4260baf8923db0a5248af/scipy/linalg/_decomp.py#L794\n",
    "    - [dsbevd](https://github.com/Reference-LAPACK/lapack/blob/master/SRC/dsbevd.f)\n",
    "\n",
    "これらの中から，必要なものを選択して利用する必要がある．\n",
    "たとえば実対称行列にもかかわらず一般の行列用の`eig()`を用いてしまうと，不要な計算をしているだけでなく，得られる固有値や固有ベクトルが複素数（実部に対して虚部の比率がマシンイプシロン程度の値）になってしまう場合もある．\n",
    "\n",
    "以下で重要なのは対称行列用の`eigh()`と`eigvalsh()`である．\n",
    "numpyとscipyのどちらを用いても良いが，numpyのほうがシンプルなインターフェースであり（つまり引数のオプションは少ない），scipyの方は一般固有値問題や変数上書きによるメモリ節約など高度なオプションが利用できる．"
   ]
  },
  {
   "cell_type": "markdown",
   "metadata": {},
   "source": [
    "### 1.1.7. <a id='toc1_1_7_'></a>[固有値の例](#toc0_)\n",
    "\n",
    "ここで対称行列$A$と一般の行列$B$について，固有値を求めてみる．"
   ]
  },
  {
   "cell_type": "code",
   "execution_count": null,
   "metadata": {},
   "outputs": [],
   "source": [
    "m = 10\n",
    "n = 5\n",
    "A = np.random.rand(m, n)\n",
    "A = A.T @ A\n",
    "print(\"A\\n\", A, sep='')\n",
    "\n",
    "n = 5\n",
    "B = np.random.rand(n, n)\n",
    "print(\"B\\n\", B, sep='')\n"
   ]
  },
  {
   "cell_type": "markdown",
   "metadata": {},
   "source": [
    "以下がnumpyとscipyで固有値を求めるコードである．\n",
    "固有値のみを求めるために，対称行列$A$には`eigvalsh()`を用い，非対称行列$B$には`eigvals()`を用いている．\n"
   ]
  },
  {
   "cell_type": "code",
   "execution_count": null,
   "metadata": {},
   "outputs": [],
   "source": [
    "print(\"eigenavlues\", np.linalg.eigvalsh(A))\n",
    "print(\"eigenavlues\", scipy.linalg.eigvalsh(A))\n"
   ]
  },
  {
   "cell_type": "code",
   "execution_count": null,
   "metadata": {},
   "outputs": [],
   "source": [
    "with np.printoptions(\n",
    "    formatter={\n",
    "    'float': '{: <25.8f}'.format,\n",
    "    'complexfloat': '{: <25.8f}'.format\n",
    "    },\n",
    "    linewidth=1000\n",
    "):\n",
    "    print(\"eigenavlues\", np.linalg.eigvals(B))\n",
    "    print(\"eigenavlues\", scipy.linalg.eigvals(B))\n"
   ]
  },
  {
   "cell_type": "markdown",
   "metadata": {},
   "source": [
    "なお対称行列$A$に`eigvals()`を用いると，実数であるべき固有値が複素数で求まる場合もある（ただし虚部は0かマシンイプシロン程度の小さい値）．対称行列では途中計算もすべて実数であるのにも関わらず，内部的には複素数で計算するため，無駄な計算をしてしまっている（可能性がある）ことに注意．"
   ]
  },
  {
   "cell_type": "code",
   "execution_count": null,
   "metadata": {},
   "outputs": [],
   "source": [
    "with np.printoptions(\n",
    "    formatter={\n",
    "    'float': '{: <25.8f}'.format,\n",
    "    'complexfloat': '{: <25.8f}'.format\n",
    "    },\n",
    "    linewidth=1000\n",
    "):\n",
    "    print(\"eigenavlues\", np.linalg.eigvals(A))\n",
    "    print(\"eigenavlues\", scipy.linalg.eigvals(A))\n"
   ]
  },
  {
   "cell_type": "markdown",
   "metadata": {},
   "source": [
    "#### 1.1.7.1. <a id='toc1_1_7_1_'></a>[ゲルシュゴリンの定理](#toc0_)\n",
    "\n",
    "ゲルシュゴリンの定理によれば，（複素）正方行列$A \\in C^{n \\times n}$の（複素）固有値は，\n",
    "中心が$a_{ii} \\in C$で半径が$R_i = \\sum_{j \\neq i} |a_{ij}|$の円盤（Gershgorin' disk）$D_i \\subset C$の\n",
    "和集合$\\cup_i D_i$に存在する．\n",
    "実対称行列であれば実軸上だけで考えればよい．\n",
    "\n",
    "- https://ja.wikipedia.org/wiki/%E3%82%B2%E3%83%AB%E3%82%B7%E3%83%A5%E3%82%B4%E3%83%AA%E3%83%B3%E3%81%AE%E5%AE%9A%E7%90%86\n",
    "\n",
    "以下は，実対称行列$A$の実軸上のゲルシュゴリン円盤（つまり実軸上の区間）を求めている．"
   ]
  },
  {
   "cell_type": "code",
   "execution_count": null,
   "metadata": {},
   "outputs": [],
   "source": [
    "print(\"A\\n\", A, sep='')\n",
    "\n",
    "gershgorin_center = diag(A)  # 中心\n",
    "gershgorin_radius = abs(A).sum(axis=1) - diag(A)  # 半径\n",
    "gershgorin_set = np.stack((\n",
    "    gershgorin_center + gershgorin_radius,\n",
    "    gershgorin_center - gershgorin_radius\n",
    "))\n",
    "print(\"center\", gershgorin_center)\n",
    "print(\"radius\", gershgorin_radius)\n",
    "print(\"set\\n\", gershgorin_set, sep='')\n",
    "print(\"tentative interval\", gershgorin_set[0].max(), gershgorin_set[1].min())\n"
   ]
  },
  {
   "cell_type": "markdown",
   "metadata": {},
   "source": [
    "これを可視化したものが以下のプロットである．赤い区間に（実）固有値が存在する．\n",
    "赤の縦線が各区間の中心，\n",
    "黒の縦線が実際の固有値である．\n",
    "求まった固有値は，ゲルシュゴリンの定理で得られた区間内にあることが確認できる．\n",
    "またこの定理は大まかな存在範囲を示しているだけであり，これでは数値計算でこの定理を利用できない．"
   ]
  },
  {
   "cell_type": "code",
   "execution_count": null,
   "metadata": {},
   "outputs": [],
   "source": [
    "fig = plt.figure(figsize=(5, 1))\n",
    "ax = fig.subplots()\n",
    "ax.set_yticks([])\n",
    "\n",
    "for i in range(gershgorin_set.shape[1]):\n",
    "    ax.axvspan(\n",
    "        gershgorin_set[0, i],\n",
    "        gershgorin_set[1, i],\n",
    "        alpha=0.1, color='red')\n",
    "\n",
    "ax.vlines(\n",
    "    gershgorin_center, 0, 1,\n",
    "    colors=\"red\")\n",
    "\n",
    "d = np.linalg.eigvalsh(A)\n",
    "ax.vlines(\n",
    "    d, 0, 1,\n",
    "    colors=\"black\")\n",
    "\n",
    "ax.set_xlabel(\"real axis\")\n",
    "plt.show()\n"
   ]
  },
  {
   "cell_type": "markdown",
   "metadata": {},
   "source": [
    "以下は非対称行列$B$について，複素平面上でゲルシュゴリン円盤の中心と半径を求めている．"
   ]
  },
  {
   "cell_type": "code",
   "execution_count": null,
   "metadata": {},
   "outputs": [],
   "source": [
    "print(\"B\\n\", B, sep='')\n",
    "\n",
    "gershgorin_center = diag(B)  # 中心\n",
    "gershgorin_radius = abs(B).sum(axis=1) - diag(B)  # 半径\n",
    "print(\"center\", gershgorin_center)\n",
    "print(\"radius\", gershgorin_radius)\n"
   ]
  },
  {
   "cell_type": "markdown",
   "metadata": {},
   "source": [
    "これを可視化したものが以下のプロットである．赤い円盤中に（複素）固有値が存在する．\n",
    "赤点が各区間の中心，\n",
    "黒点が実際の固有値である．\n",
    "求まった固有値は，ゲルシュゴリンの定理で得られた区間内にあることが確認できるが，\n",
    "やはりこの定理は大まかな存在範囲を示しているだけである．"
   ]
  },
  {
   "cell_type": "code",
   "execution_count": null,
   "metadata": {},
   "outputs": [],
   "source": [
    "import matplotlib.patches as patches\n",
    "\n",
    "fig = plt.figure(figsize=(3, 3))\n",
    "ax = fig.subplots()\n",
    "\n",
    "for i in range(len(gershgorin_center)):\n",
    "    c = patches.Circle(\n",
    "        xy=(gershgorin_center[i], 0),\n",
    "        radius=gershgorin_radius[i],\n",
    "        fc='red', alpha=0.1)\n",
    "    ax.add_patch(c)\n",
    "\n",
    "ax.scatter(\n",
    "    gershgorin_center,\n",
    "    np.zeros_like(gershgorin_center),\n",
    "    s=1, color=\"r\")\n",
    "\n",
    "d = np.linalg.eigvals(B)\n",
    "d = np.array([(r.real, r.imag) for r in d])\n",
    "ax.scatter(\n",
    "    d[:, 0],\n",
    "    d[:, 1],\n",
    "    s=1, color=\"black\")\n",
    "\n",
    "ax.set_xlim(-10, 10)\n",
    "ax.set_ylim(-10, 10)\n",
    "ax.set_xlabel(\"Re\")\n",
    "ax.set_ylabel(\"Img\")\n",
    "ax.axis('equal')\n",
    "\n",
    "plt.show()\n"
   ]
  },
  {
   "cell_type": "markdown",
   "metadata": {},
   "source": [
    "### 1.1.8. <a id='toc1_1_8_'></a>[固有ベクトルの例](#toc0_)\n",
    "\n",
    "次に固有ベクトルを求める．\n",
    "固有値ベクトルを求めるために，対称行列$A$には`eigh()`を用い，非対称行列$B$には`eig()`を用いる．\n",
    "どちらの関数でも，またnumpyでもscipyでも，\n",
    "返り値は$n$個の固有値を並べたベクトル`d`のndarrayと，固有ベクトルからなる$n \\times n$行列`U`のndarrayである．\n",
    "\n",
    "なおこれらの関数は固有値と固有ベクトルを同時に求めるものであり，\n",
    "「あらかじめ求めてある固有値を利用して固有ベクトルを求める」ものではないことに注意する必要がある．\n",
    "実際には，固有値を求めるために`eigvals()`を用いて，次に固有ベクトルを求めるために`eig()`を用いると，\n",
    "固有値を求める計算が重複するため無駄が生じている．\n",
    "\n",
    "以下のコードでは，あらためて固有値と固有ベクトルを計算し，\n",
    "固有値分解$A = U D U^T$もしくは対角化$D = U^T A U$が成立していることを確認している．\n",
    "得られた固有値`d`はndarrayなので，`diag(d)`で対角行列$D$に変換して用いている\n",
    "（実装上はブロードキャストを使ったほうが遥かに効率が良いが，ここでは数式に一致させている）．"
   ]
  },
  {
   "cell_type": "code",
   "execution_count": null,
   "metadata": {},
   "outputs": [],
   "source": [
    "d, U = np.linalg.eigh(A)\n",
    "\n",
    "with np.printoptions(formatter={'float': '{: 12.8f}'.format}, suppress=True, linewidth=100):\n",
    "\n",
    "    print(\"eiganvalues\", d)\n",
    "    print(\"eiganvectors\\n\", U, sep='')\n",
    "\n",
    "    print(\"U D U^T == A\", np.allclose(U @ diag(d) @ U.T, A))\n",
    "    print(\"U^T A U == D\", np.allclose(U.T @ A @ U, diag(d)))\n"
   ]
  },
  {
   "cell_type": "code",
   "execution_count": null,
   "metadata": {},
   "outputs": [],
   "source": [
    "d, U = np.linalg.eig(B)\n",
    "\n",
    "with np.printoptions(formatter={'float': '{: 12.8f}'.format}, suppress=True, linewidth=200):\n",
    "\n",
    "    print(\"eiganvalues\", d)\n",
    "    print(\"eiganvectors\\n\", U, sep='')\n",
    "\n",
    "    print(\"U D U^{-1} == B\", np.allclose(U @ diag(d) @ inv(U), B))\n",
    "    print(\"D == U^{-1} B U\", np.allclose(diag(d), inv(U) @ B @ U))\n"
   ]
  },
  {
   "cell_type": "markdown",
   "metadata": {},
   "source": [
    "numpyとscipyの`eigh()`で得られる固有値と固有ベクトルの順番は昇順である（in ascending order）とドキュメントに書かれているので，\n",
    "最大固有値と最小固有値，またそれぞれに対応する固有ベクトルは以下のように取得できる．\n",
    "\n",
    "なお教科書などの一般的な固有値の表記では最大固有値が$\\lambda_1$で最小固有値が$\\lambda_n$であることが多いが，\n",
    "ここでは逆になっており，最小固有値が`d[0]`で最大固有値が`d[-1]`（`d[n-1]`と等価）であることに注意．"
   ]
  },
  {
   "cell_type": "code",
   "execution_count": null,
   "metadata": {},
   "outputs": [],
   "source": [
    "d, U = np.linalg.eigh(A)\n",
    "\n",
    "lmd_max = d[-1]  # in ascending order\n",
    "u_max = U[:, -1]\n",
    "print(\"largest eigenvalue\", lmd_max)\n",
    "print(\"its eigenvextor\", u_max)\n",
    "\n",
    "lmd_min = d[0]  # in ascending order\n",
    "u_min = U[:, 0]\n",
    "print(\"smallest eigenvalue\", lmd_min)\n",
    "print(\"its eigenvextor\", u_min)\n"
   ]
  },
  {
   "cell_type": "markdown",
   "metadata": {},
   "source": [
    "なお実対称行列を扱うこれ以降のコードでは，最大固有値が`d[0]`に来るように，`d`の要素と`U`の列を逆順に入れ替えることも行う．"
   ]
  },
  {
   "cell_type": "code",
   "execution_count": null,
   "metadata": {},
   "outputs": [],
   "source": [
    "d, U = np.linalg.eigh(A)\n",
    "d = d[::-1]\n",
    "U = U[:, ::-1]\n",
    "\n",
    "with np.printoptions(formatter={'float': '{: 12.8f}'.format}, suppress=True, linewidth=100):\n",
    "\n",
    "    print(\"eiganvalues\", d)\n",
    "    print(\"eiganvectors\\n\", U, sep='')\n",
    "\n",
    "    print(\"U D U^T == A\", np.allclose(U @ diag(d) @ U.T, A))\n",
    "    print(\"U^T A U == D\", np.allclose(U.T @ A @ U, diag(d)))\n"
   ]
  },
  {
   "cell_type": "markdown",
   "metadata": {},
   "source": [
    "なおscipyの`eigh()`には，必要な固有値と固有ベクトルだけを計算できるように引数`subset_by_index`がある．\n",
    "これに`[a, b]`と指定すれば，固有値`d[a], d[a+1], ..., d[b-1], d[b]`と対応する固有ベクトルだけを計算できる．"
   ]
  },
  {
   "cell_type": "code",
   "execution_count": null,
   "metadata": {},
   "outputs": [],
   "source": [
    "d, U = scipy.linalg.eigh(A, subset_by_index=[2, 4])\n",
    "\n",
    "with np.printoptions(formatter={'float': '{: 12.12f}'.format}, suppress=True, linewidth=100):\n",
    "\n",
    "    print(\"eiganvalues\", d)\n",
    "    print(\"eiganvectors\\n\", U, sep='')\n",
    "\n",
    "    print(\"U D U^T == A\", np.allclose(U @ diag(d) @ U.T, A))\n",
    "    print(\"U^T A U == D\", np.allclose(U.T @ A @ U, diag(d)))\n"
   ]
  },
  {
   "cell_type": "markdown",
   "metadata": {},
   "source": [
    "numpyやscipyなどのライブラリでを用いれば，これらの固有値・固有ベクトルの計算は1行で可能である．\n",
    "その内容や計算方法，計算量を知るために，以下ではまず固有ベクトルを求めるべき乗法とその関連手法を説明する．"
   ]
  },
  {
   "cell_type": "markdown",
   "metadata": {},
   "source": [
    "## 1.2. <a id='toc1_2_'></a>[べき乗法と関連手法](#toc0_)\n",
    "\n",
    "### 1.2.1. <a id='toc1_2_1_'></a>[べき乗法（power method）](#toc0_)\n",
    "\n",
    "べき乗法は最大固有値$\\lambda_1$に対応する固有ベクトル$\\boldsymbol{x}_1$を求める方法であり，\n",
    "同時に最大固有値も求める．\n",
    "固有ベクトルを1つしか求められない単純な方法であるが，\n",
    "他の手法でまず固有値を求め，その後に固有ベクトルを求めるためにべき乗法を用いることが多い．\n",
    "そのため頻繁に用いられる基本的な手法である．\n",
    "\n",
    "べき乗法は反復法であり，任意の初期値$\\boldsymbol{u}^{(0)} \\in R^n$から開始して，次式で解を更新する方法である．\n",
    "$$\n",
    "\\boldsymbol{u}^{(k)} = A \\boldsymbol{u}^{(k - 1)}\n",
    "$$\n",
    "これは最大固有値に対応する固有ベクトルに収束する．\n",
    "$$\n",
    "\\lim_{k \\to \\infty} \\boldsymbol{u}^{(k)} = \\boldsymbol{x}_1\n",
    "$$\n",
    "\n",
    "これは次のように導出できる．\n",
    "$A$の固有値が\n",
    "$$\n",
    "|\\lambda_1| > |\\lambda_2| \\ge \\cdots \\ge |\\lambda_n|\n",
    "$$\n",
    "を満たすと仮定すると，$c_i = \\boldsymbol{x}_i^T \\boldsymbol{u}^{(0)}$として，\n",
    "\\begin{align*}\n",
    "\\boldsymbol{u}^{(k)}\n",
    "&= A \\boldsymbol{u}^{(k - 1)} \\\\\n",
    "&= A^k \\boldsymbol{u}^{(0)} \\\\\n",
    "&= A^k \\sum_{i=1}^n c_i \\boldsymbol{x}_i \\\\\n",
    "&= \\sum_{i=1}^n c_i \\lambda_i^k \\boldsymbol{x}_i \\\\\n",
    "&= \\lambda_1^k \\sum_{i=1}^n c_i \\left(\\frac{\\lambda_i}{\\lambda_1}\\right)^k \\boldsymbol{x}_i\n",
    "\\end{align*}\n",
    "ここで$i=2,\\ldots,n$について\n",
    "$\\left| \\frac{\\lambda_i}{\\lambda_1} \\right| < 1$\n",
    "であるので，$k \\to \\infty$のとき\n",
    "\\begin{align*}\n",
    "\\boldsymbol{u}^{(k)} &\\simeq \\lambda_1^k c_1 \\boldsymbol{x}_1\n",
    "\\end{align*}\n",
    "となる．\n",
    "\n",
    "実際の計算では$\\lambda_1^k$によってオーバフローやアンダーフローが発生する可能性があるため，\n",
    "各反復で正規化する．\n",
    "\n",
    "- 初期値$\\boldsymbol{u}^{(0)}$, $k=0$\n",
    "- 収束するまで以下を反復\n",
    "    - $\\boldsymbol{u}^{'(k)} = A \\boldsymbol{u}^{(k - 1)}$\n",
    "    - $\\boldsymbol{u}^{(k)} = \\boldsymbol{u}^{'(k)} / \\| \\boldsymbol{u}^{'(k)} \\|$\n",
    "- $\\boldsymbol{x}_1 = \\boldsymbol{u}^{(k)}$\n",
    "\n",
    "得られた固有ベクトル$\\boldsymbol{x}_1$に対応する固有値$\\lambda_1$は\n",
    "\\begin{align*}\n",
    "A \\boldsymbol{x}_1 &= \\lambda_1 \\boldsymbol{x}_1\\\\\n",
    "\\boldsymbol{x}_1^T A \\boldsymbol{x}_1 &= \\lambda_1 \\| \\boldsymbol{x}_1 \\|_2^2 \\\\\n",
    "\\lambda_1 &= \\frac{\\boldsymbol{x}_1^T A \\boldsymbol{x}_1}{\\| \\boldsymbol{x}_1 \\|_2^2}\n",
    "\\end{align*}\n",
    "で求められる．固有ベクトルを正規化しておけば分母は不要である．\n",
    "\n",
    "初期値は任意で良いが，$\\boldsymbol{u}^{(0)} = (1, 1, \\ldots, 1)^T$などが使われることもある．\n",
    "\n",
    "\n",
    "以下のコードはべき乗法の簡単な実装である．"
   ]
  },
  {
   "cell_type": "code",
   "execution_count": null,
   "metadata": {},
   "outputs": [],
   "source": [
    "u = np.ones(n)\n",
    "\n",
    "maxiter = 10\n",
    "for i in range(maxiter):\n",
    "    u = A @ u\n",
    "    u /= norm(u)\n",
    "    l = u.T @ A @ u\n",
    "    with np.printoptions(formatter={'float': '{: 12.12f}'.format}, suppress=True, linewidth=100):\n",
    "        print(f\"{i:2d} {l:12.12f}\", u)\n"
   ]
  },
  {
   "cell_type": "markdown",
   "metadata": {},
   "source": [
    "これを関数にしたものが以下の実装である．\n",
    "$A \\boldsymbol{u}$の計算を再利用しており，\n",
    "また計算量の大きい固有値計算はループ中には行わず最後に行っている．\n",
    "終了判定は反復回数か，固有ベクトルの変更がなくなるまでとした．\n",
    "なお固有ベクトルは向きに依存しないため，\n",
    "$\\boldsymbol{u}^{(k)}$と$\\boldsymbol{u}^{(k-1)}$の符号が反転する場合がある．\n",
    "そのため`u`と，`u_pre`または`-u_pre`とが近くなれば終了としている．"
   ]
  },
  {
   "cell_type": "code",
   "execution_count": null,
   "metadata": {},
   "outputs": [],
   "source": [
    "def power_method(\n",
    "    A: np.ndarray,\n",
    "    maxiter: int = 5000,\n",
    ") -> Tuple[float, np.ndarray]:\n",
    "    \"\"\"Power method for computing the largest eigenvalue and its eigenvector of A\n",
    "\n",
    "    Args:\n",
    "        A (np.ndarray): nxn matrix A\n",
    "        maxiter (int, optional): max iterations. Defaults to 5000.\n",
    "\n",
    "    Returns:\n",
    "        Tuple[float, np.ndarray]: the largest eigenvalue and its eigenvector\n",
    "    \"\"\"\n",
    "    assert A.ndim == 2\n",
    "    assert A.shape[0] == A.shape[1]\n",
    "    n = A.shape[0]\n",
    "    u = np.ones(n)\n",
    "\n",
    "    Au = u\n",
    "    u_pre = u.copy()\n",
    "    for i in range(maxiter):\n",
    "        u = Au\n",
    "        u /= norm(u)\n",
    "        Au = A @ u\n",
    "\n",
    "        with np.printoptions(formatter={'float': '{: 12.12f}'.format}, suppress=True, linewidth=100):\n",
    "            print(f\"{i:2}\", u)\n",
    "\n",
    "        if np.allclose(u, u_pre) or np.allclose(u, -u_pre):\n",
    "            break\n",
    "        u_pre = u.copy()\n",
    "\n",
    "    l = u.T @ Au\n",
    "    return l, u\n"
   ]
  },
  {
   "cell_type": "markdown",
   "metadata": {},
   "source": [
    "べき乗法の計算結果は以下の通りである．"
   ]
  },
  {
   "cell_type": "code",
   "execution_count": null,
   "metadata": {
    "scrolled": true
   },
   "outputs": [],
   "source": [
    "lmd_max, u_max = power_method(A)\n",
    "lmd_max, u_max\n"
   ]
  },
  {
   "cell_type": "markdown",
   "metadata": {},
   "source": [
    "これは`np.linalg.eigh()`の結果とかなり近い．\n",
    "ただしこの収束判定では固有ベクトルの計算誤差は1e-8程度であるため，`np.allclose()`では場合によってはFalseになる場合もある．\n"
   ]
  },
  {
   "cell_type": "code",
   "execution_count": null,
   "metadata": {},
   "outputs": [],
   "source": [
    "d, U = np.linalg.eigh(A)\n",
    "\n",
    "lmd_max_np = d[-1]  # in ascending order\n",
    "u_max_np = U[:, -1]\n",
    "\n",
    "lmd_max_np, u_max_np\n"
   ]
  },
  {
   "cell_type": "code",
   "execution_count": null,
   "metadata": {},
   "outputs": [],
   "source": [
    "with np.printoptions(formatter={'float': '{: 12.12f}'.format}, suppress=True, linewidth=100):\n",
    "    print(abs(lmd_max - lmd_max_np), np.isclose(lmd_max, lmd_max_np))\n",
    "    print(abs(u_max - u_max_np), np.allclose(u_max, u_max_np))\n",
    "    print(abs(u_max + u_max_np), np.allclose(u_max, -u_max_np))\n"
   ]
  },
  {
   "cell_type": "markdown",
   "metadata": {},
   "source": [
    "### 1.2.2. <a id='toc1_2_2_'></a>[逆反復法（inverse iteration）](#toc0_)\n",
    "\n",
    "逆反復法は最小固有値$\\lambda_n$に対応する固有ベクトル$\\boldsymbol{x}_n$を求める方法であり，\n",
    "同時に最小固有値も求める．\n",
    "これは行列$A^{-1}$の固有値が$A$の固有値の逆数であることを利用している．\n",
    "つまり\n",
    "\\begin{align*}\n",
    "A \\boldsymbol{x}_n &= \\lambda_n \\boldsymbol{x}_n \\\\\n",
    "\\boldsymbol{x}_n &= \\lambda_n A^{-1} \\boldsymbol{x}_n \\\\\n",
    "\\frac{1}{\\lambda_n} \\boldsymbol{x}_n &= A^{-1} \\boldsymbol{x}_n\n",
    "\\end{align*}\n",
    "であり，同じ固有ベクトル$\\boldsymbol{x}_n$を持つ．\n",
    "\n",
    "\n",
    "方法は，単に$A^{-1}$に対してべき乗法を適用するだけである．\n",
    "\n",
    "$$\n",
    "\\boldsymbol{u}^{(k)} = A^{-1} \\boldsymbol{u}^{(k - 1)}\n",
    "$$\n",
    "\n",
    "\n",
    "得られた固有ベクトルに対応する固有値は\n",
    "\\begin{align*}\n",
    "A^{-1} \\boldsymbol{x}_n &= \\frac{1}{\\lambda_n} \\boldsymbol{x}_n \\\\\n",
    "\\boldsymbol{x}_n^T A^{-1} \\boldsymbol{x}_n &= \\frac{1}{\\lambda_n} \\| \\boldsymbol{x}_n \\|_2^2 \\\\\n",
    "\\frac{1}{\\lambda_n} &= \\frac{\\boldsymbol{x}_n^T A^{-1} \\boldsymbol{x}_n}{\\| \\boldsymbol{x}_n \\|_2^2} \\\\\n",
    "\\lambda_n &= \\frac{\\| \\boldsymbol{x}_n \\|_2^2}{\\boldsymbol{x}_n^T A^{-1} \\boldsymbol{x}_n}\n",
    "\\end{align*}\n",
    "で求められる．もしくは\n",
    "\\begin{align*}\n",
    "\\lambda_n &= \\frac{\\boldsymbol{x}_n^T A \\boldsymbol{x}_n}{\\| \\boldsymbol{x}_n \\|_2^2}\n",
    "\\end{align*}\n",
    "のほうが$A^{-1}$が不要になる．\n",
    "\n",
    "\n",
    "実際には逆行列を用いるのではなく，以下の連立方程式を解く．\n",
    "\n",
    "$$\n",
    "A \\boldsymbol{u}^{(k)} = \\boldsymbol{u}^{(k - 1)}\n",
    "$$\n",
    "\n",
    "この係数行列$A$が固定である連立方程式を反復して解くことになるため，\n",
    "あらかじめ$A = P L U$とLU分解しておき，これを用いて\n",
    "\\begin{align*}\n",
    "P L \\boldsymbol{y} &= \\boldsymbol{u}^{(k - 1)} \\\\\n",
    "U \\boldsymbol{u}^{(k)} &= \\boldsymbol{y}\n",
    "\\end{align*}\n",
    "を反復する．"
   ]
  },
  {
   "cell_type": "markdown",
   "metadata": {},
   "source": [
    "以下のコードでは，LU分解には`scipy.linalg.lu_factor`と`scipy.linalg.lu_solve`を用いている．\n",
    "行列`A`に対してはLU分解を最初に1回だけ行い，\n",
    "毎回のループでは計算量の少ない連立方程式を解いている．\n",
    "求めている固有ベクトル`u`は，元の行列$A$の最小固有値`l1`に対応するが，\n",
    "$A^{-1}$の最大固有値`l2`にも対応する．\n",
    "`l2`は`l1`の逆数である．"
   ]
  },
  {
   "cell_type": "code",
   "execution_count": null,
   "metadata": {},
   "outputs": [],
   "source": [
    "LU, pivot = scipy.linalg.lu_factor(A)\n",
    "\n",
    "u = np.ones(n)\n",
    "\n",
    "maxiter = 15\n",
    "for i in range(maxiter):\n",
    "    u = scipy.linalg.lu_solve((LU, pivot), u)\n",
    "    u /= norm(u)\n",
    "    l1 = u.T @ A @ u\n",
    "    l2 = u.T @ scipy.linalg.lu_solve((LU, pivot), u)\n",
    "\n",
    "    with np.printoptions(formatter={'float': '{: 12.12f}'.format}, suppress=True, linewidth=100):\n",
    "        print(f\"{i:2d} {l1:12.12f} {1 / l2:12.12f} \", u)\n"
   ]
  },
  {
   "cell_type": "markdown",
   "metadata": {},
   "source": [
    "これを関数にしたものが以下の実装である．"
   ]
  },
  {
   "cell_type": "code",
   "execution_count": null,
   "metadata": {},
   "outputs": [],
   "source": [
    "def inverse_iteration(\n",
    "    A: np.ndarray,\n",
    "    maxiter: int = 5000,\n",
    ") -> Tuple[float, np.ndarray]:\n",
    "    \"\"\"inverse iteration method for computing the largest eigenvalue and its eigenvector of A\n",
    "\n",
    "    Args:\n",
    "        A (np.ndarray): nxn matrix A\n",
    "        maxiter (int, optional): max iterations. Defaults to 5000.\n",
    "\n",
    "    Returns:\n",
    "        Tuple[float, np.ndarray]: the largest eigenvalue and its eigenvector\n",
    "    \"\"\"\n",
    "    assert A.ndim == 2\n",
    "    assert A.shape[0] == A.shape[1]\n",
    "    n = A.shape[0]\n",
    "    u = np.ones(n)\n",
    "\n",
    "    LU, pivot = scipy.linalg.lu_factor(A)\n",
    "\n",
    "    Au = u\n",
    "    u_pre = u.copy()\n",
    "    for i in range(maxiter):\n",
    "        u = Au\n",
    "        u /= norm(u)\n",
    "        Au = scipy.linalg.lu_solve((LU, pivot), u)\n",
    "\n",
    "\n",
    "        with np.printoptions(formatter={'float': '{: 12.12f}'.format}, suppress=True, linewidth=100):\n",
    "            print(f\"{i:2d}\", u)\n",
    "\n",
    "        if np.allclose(u, u_pre) or np.allclose(u, -u_pre):\n",
    "            break\n",
    "        u_pre = u.copy()\n",
    "\n",
    "    l = u.T @ A @ u\n",
    "    return l, u\n"
   ]
  },
  {
   "cell_type": "code",
   "execution_count": null,
   "metadata": {},
   "outputs": [],
   "source": [
    "lmd_max, u_max = inverse_iteration(A)\n",
    "lmd_max, u_max\n"
   ]
  },
  {
   "cell_type": "code",
   "execution_count": null,
   "metadata": {},
   "outputs": [],
   "source": [
    "d, U = np.linalg.eigh(A)\n",
    "\n",
    "lmd_max_np = d[0]  # in ascending order\n",
    "u_max_np = U[:, 0]\n",
    "\n",
    "lmd_max_np, u_max_np\n"
   ]
  },
  {
   "cell_type": "code",
   "execution_count": null,
   "metadata": {},
   "outputs": [],
   "source": [
    "with np.printoptions(formatter={'float': '{: 12.12f}'.format}, suppress=True, linewidth=100):\n",
    "    print(abs(lmd_max - lmd_max_np), np.isclose(lmd_max, lmd_max_np))\n",
    "    print(abs(u_max - u_max_np), np.allclose(u_max, u_max_np))\n",
    "    print(abs(u_max + u_max_np), np.allclose(u_max, -u_max_np))\n"
   ]
  },
  {
   "cell_type": "markdown",
   "metadata": {},
   "source": [
    "### 1.2.3. <a id='toc1_2_3_'></a>[シフト付き逆反復法（shifted inverse iteration）](#toc0_)\n",
    "\n",
    "ある固有値が近似的に求まっているときに逆反復法を用いると，その固有値に収束する．\n",
    "固有値$\\lambda_i$の近似値を$\\mu$として，\n",
    "行列$A - \\mu I$に対して逆反復法を適用する．\n",
    "この行列の固有値は，$A$の固有値を$\\mu$だけシフトしたものである．\n",
    "\n",
    "$$\n",
    "\\boldsymbol{u}^{(k)} = (A - \\mu I)^{-1} \\boldsymbol{u}^{(k - 1)}\n",
    "$$\n",
    "\n",
    "べき乗法と同様に考えると，最小固有値$\\lambda_i - \\mu$の項が\n",
    "他の固有値$\\lambda_j - \\mu$（$j \\neq i$）よりも小さければ\n",
    "$$\n",
    "\\left| \\frac{\\lambda_j - \\mu}{\\lambda_i - \\mu} \\right| < 1\n",
    "$$\n",
    "となる．\n",
    "したがって最小固有値$\\lambda_i - \\mu$が求まり，\n",
    "固有ベクトルもそれに対応するものに収束する．\n",
    "\n",
    "以下のコードは，$\\mu = 0.5$にした場合の例である．\n",
    "LU分解を行う行列は$A - \\mu I$であり，\n",
    "それに対して`scipy.linalg.lu_factor`と`scipy.linalg.lu_solve`を用いている．\n",
    "求めている固有ベクトル`u`は，元の行列$A$の固有値`l1`に対応するが，\n",
    "$A - \\mu I$の固有値`l2`にも対応する．\n",
    "`l2`の逆数を`mu`だけシフトしたものが`l1`である．\n"
   ]
  },
  {
   "cell_type": "code",
   "execution_count": null,
   "metadata": {},
   "outputs": [],
   "source": [
    "u = np.ones(n)\n",
    "mu = 0.5\n",
    "print(\"mu\", mu)\n",
    "\n",
    "LU, pivot = scipy.linalg.lu_factor(A -  mu * np.eye(n))\n",
    "\n",
    "maxiter = 10\n",
    "for i in range(maxiter):\n",
    "    u = scipy.linalg.lu_solve((LU, pivot), u)\n",
    "    u /= norm(u)\n",
    "    l1 = u.T @ A @ u\n",
    "    l2 = u.T @ scipy.linalg.lu_solve((LU, pivot), u)\n",
    "\n",
    "    with np.printoptions(formatter={'float': '{: 12.12f}'.format}, suppress=True, linewidth=100):\n",
    "        print(f\"{i:2d} {l1:12.12f} {1 / l2 + mu:12.12f} \", u)\n"
   ]
  },
  {
   "cell_type": "markdown",
   "metadata": {},
   "source": [
    "これを関数にしたものが以下の実装である．"
   ]
  },
  {
   "cell_type": "code",
   "execution_count": null,
   "metadata": {},
   "outputs": [],
   "source": [
    "def shifted_inverse_iteration(\n",
    "    A: np.ndarray,\n",
    "    mu: float,\n",
    "    maxiter: int = 5000,\n",
    ") -> Tuple[float, np.ndarray]:\n",
    "    \"\"\"Shifted inverse iteration for computing the largest eigenvalue and its eigenvector of A\n",
    "\n",
    "    Args:\n",
    "        A (np.ndarray): nxn matrix A\n",
    "        mu (float): initial eigenvalue\n",
    "        maxiter (int, optional): max iterations. Defaults to 5000.\n",
    "\n",
    "    Returns:\n",
    "        Tuple[float, np.ndarray]: the largest eigenvalue and its eigenvector\n",
    "    \"\"\"\n",
    "    assert A.ndim == 2\n",
    "    assert A.shape[0] == A.shape[1]\n",
    "    n = A.shape[0]\n",
    "    u = np.ones(n)\n",
    "\n",
    "    LU, pivot = scipy.linalg.lu_factor(A -  mu * np.eye(n))\n",
    "\n",
    "    Au = u\n",
    "    u_pre = u.copy()\n",
    "    for i in range(maxiter):\n",
    "        u = Au\n",
    "        u /= norm(u)\n",
    "        Au = scipy.linalg.lu_solve((LU, pivot), u)\n",
    "\n",
    "        with np.printoptions(formatter={'float': '{: 12.12f}'.format}, suppress=True, linewidth=100):\n",
    "            print(f\"{i:2d}\", u)\n",
    "\n",
    "        if np.allclose(u, u_pre) or np.allclose(u, -u_pre):\n",
    "            break\n",
    "        u_pre = u.copy()\n",
    "\n",
    "    l = u.T @ A @ u\n",
    "    return l, u\n"
   ]
  },
  {
   "cell_type": "code",
   "execution_count": null,
   "metadata": {
    "scrolled": false
   },
   "outputs": [],
   "source": [
    "shifted_inverse_iteration(A, 0.5)\n"
   ]
  },
  {
   "cell_type": "markdown",
   "metadata": {},
   "source": [
    "$A$の固有値と比較すると，確かに初期値に最も近い固有値が得られていることがわかる．"
   ]
  },
  {
   "cell_type": "code",
   "execution_count": null,
   "metadata": {},
   "outputs": [],
   "source": [
    "with np.printoptions(formatter={'float': '{: 12.12f}'.format}, suppress=True, linewidth=100):\n",
    "    d, U = np.linalg.eigh(A)\n",
    "    print(\"d\", d)\n",
    "    print(\"U\\n\", U, sep='')\n"
   ]
  },
  {
   "cell_type": "markdown",
   "metadata": {},
   "source": [
    "### 1.2.4. <a id='toc1_2_4_'></a>[レイリー商反復（Rayleigh quotient iteration）](#toc0_)\n",
    "\n",
    "レイリー商\n",
    "$$\n",
    "\\frac{\\boldsymbol{x}^T A \\boldsymbol{x}}{\\boldsymbol{x}^T \\boldsymbol{x}}\n",
    "$$\n",
    "は，固有値の良い近似を与える．\n",
    "そこで，シフト付き逆反復法の$\\mu$を，毎回の反復でレイリー商で置き換えたものがレイリー商反復である．\n",
    "\n",
    "毎回の反復で係数行列が変化しLU分解が使えないため計算量は多くなるが，\n",
    "3次収束するために反復数は少なくなる．\n"
   ]
  },
  {
   "cell_type": "code",
   "execution_count": null,
   "metadata": {},
   "outputs": [],
   "source": [
    "u = np.ones(n)\n",
    "mu = 0.5\n",
    "print(\"mu\", mu)\n",
    "\n",
    "maxiter = 10\n",
    "for i in range(maxiter):\n",
    "\n",
    "    u = solve(A - mu * np.eye(n), u)\n",
    "    u /= norm(u)\n",
    "    mu = u.T @ A @ u\n",
    "\n",
    "    with np.printoptions(formatter={'float': '{: 12.12f}'.format}, suppress=True, linewidth=100):\n",
    "        print(f\"{i:2d} {mu:12.12f}\", u)\n"
   ]
  },
  {
   "cell_type": "markdown",
   "metadata": {},
   "source": [
    "これを関数にしたものが以下の実装である．"
   ]
  },
  {
   "cell_type": "code",
   "execution_count": null,
   "metadata": {},
   "outputs": [],
   "source": [
    "def rayleigh_quotient_iteration(\n",
    "    A: np.ndarray,\n",
    "    mu: float,\n",
    "    u: np.ndarray,\n",
    "    maxiter: int = 5000,\n",
    ") -> Tuple[float, np.ndarray]:\n",
    "    \"\"\"Rayleigh quotioent iteration for computing the largest eigenvalue and its eigenvector of A\n",
    "\n",
    "    Args:\n",
    "        A (np.ndarray): nxn matrix A\n",
    "        mu (float): initial eigenvalue\n",
    "        u (np.ndarray): n-d initial eigenvector\n",
    "        maxiter (int, optional): max iterations. Defaults to 50.\n",
    "\n",
    "    Returns:\n",
    "        Tuple[float, np.ndarray]: the largest eigenvalue and its eigenvector\n",
    "    \"\"\"\n",
    "    assert A.ndim == 2\n",
    "    assert A.shape[0] == A.shape[1]\n",
    "    n = A.shape[0]\n",
    "    assert len(u) == n\n",
    "\n",
    "    u_pre = u.copy()\n",
    "    for i in range(maxiter):\n",
    "        u = solve(A - mu * np.eye(n), u)\n",
    "        u /= norm(u)\n",
    "        mu = u.T @ A @ u\n",
    "\n",
    "        with np.printoptions(formatter={'float': '{: 12.12f}'.format}, suppress=True, linewidth=100):\n",
    "            print(f\"{i:2d}\", u)\n",
    "\n",
    "        if np.allclose(u, u_pre) or np.allclose(u, -u_pre):\n",
    "            break\n",
    "        u_pre = u.copy()\n",
    "\n",
    "    return mu, u\n"
   ]
  },
  {
   "cell_type": "markdown",
   "metadata": {},
   "source": [
    "これはレイリー商を用いない場合よりも反復回数が少なくなっていることがわかる（場合によっては非常に少なくなる）．"
   ]
  },
  {
   "cell_type": "code",
   "execution_count": null,
   "metadata": {},
   "outputs": [],
   "source": [
    "with np.printoptions(formatter={'float': '{: 12.18f}'.format}, suppress=True, linewidth=200):\n",
    "    mu, u = rayleigh_quotient_iteration(A, mu=0.5, u=np.ones(n))\n",
    "    print(mu)\n"
   ]
  },
  {
   "cell_type": "code",
   "execution_count": null,
   "metadata": {},
   "outputs": [],
   "source": [
    "with np.printoptions(formatter={'float': '{: 12.18f}'.format}, suppress=True, linewidth=200):\n",
    "    d, U = np.linalg.eigh(A)\n",
    "    print(\"d\", d)\n",
    "    print(\"U\\n\", U, sep='')\n"
   ]
  },
  {
   "cell_type": "markdown",
   "metadata": {},
   "source": [
    "## 1.3. <a id='toc1_3_'></a>[QR法](#toc0_)\n",
    "\n",
    "固有値が分かれば（もしくは近似値が得られれば），レイリー商反復などで固有ベクトルを求めることができる（固有ベクトルの近似が得られていればそれを初期値にする）．\n",
    "以下では固有値と固有ベクトルを求める反復手法の1つであるQR法を説明する．\n",
    "これは$A$のQR分解を用いたQR変換を反復適用する手法である．\n",
    "\n",
    "行列$A \\in R^{n \\times n}$に対するQR分解を\n",
    "$$\n",
    "A = QR\n",
    "$$\n",
    "とする．ここで$Q \\in R^{n \\times n}$は直交行列（$Q^T Q = Q Q^T = I$），\n",
    "$R \\in R^{n \\times n}$は上三角行列である．\n"
   ]
  },
  {
   "cell_type": "markdown",
   "metadata": {},
   "source": [
    "\\begin{align*}\n",
    "\\begin{pmatrix}\n",
    "a_{11} & a_{12} & a_{13} & \\cdots & a_{1n} \\\\\n",
    "a_{21} & a_{22} & a_{23} & \\cdots & a_{2n} \\\\\n",
    "a_{31} & a_{32} & a_{33} & \\cdots & a_{3n} \\\\\n",
    "\\vdots & \\vdots &  & \\ddots & \\vdots \\\\\n",
    "a_{n1} & a_{n2} & a_{n3} & \\cdots & a_{nn}\n",
    "\\end{pmatrix}\n",
    "=\n",
    "\\begin{pmatrix}\n",
    "q_{11} & q_{12} & q_{13} & \\cdots & q_{1n} \\\\\n",
    "q_{21} & q_{22} & q_{23} & \\cdots & q_{2n} \\\\\n",
    "q_{31} & q_{32} & q_{33} & \\cdots & q_{3n} \\\\\n",
    "\\vdots & \\vdots &  & \\ddots & \\vdots \\\\\n",
    "q_{n1} & q_{n2} & q_{n3} & \\cdots & q_{nn}\n",
    "\\end{pmatrix}\n",
    "\\begin{pmatrix}\n",
    "r_{11} & r_{12} & r_{13} & \\cdots & r_{1n} \\\\\n",
    "       & r_{22} & r_{23} & \\cdots & r_{2n} \\\\\n",
    "       &        & r_{33} & \\cdots & r_{3n} \\\\\n",
    "       &        &        & \\ddots & \\vdots \\\\\n",
    "       &        &        &        & r_{nn}\n",
    "\\end{pmatrix}\n",
    "\\end{align*}"
   ]
  },
  {
   "cell_type": "markdown",
   "metadata": {},
   "source": [
    "QR分解を行うアルゴリズムには以下のものがある．\n",
    "\n",
    "- グラム・シュミット（Gram–Schmidt）の直交化法：任意の基底ベクトルを正規直交基底へ変換する方法である．すでに求めた直交基底が張る部分空間への射影との差分により直交基底を一つ増やすというアルゴリズムは理解しやすいため線形代数で学ぶが，数値計算的には作成された基底の直交性に問題があり，あまり用いられない．特に「射影との差分」が数値的に不安定である．（修正グラム・シュミット法もある）\n",
    "- ハウスホルダー変換を用いる方法：ある列の対角成分より下の要素を鏡映変換で一度に0にする方法．以下では「一般の行列を三重対角行列に変換する」ハウスホルダー法を説明するが，それと同じ要領で「一般の行列をQR分解する」ためにハウスホルダー変換を行う．（ここでは説明は省略）\n",
    "- ギブンス変換を用いる方法：ギブンス回転行列を適用することで，ある要素を一つ0にする方法．以下では「三重対角行列を上三角行列へ変換する」ギブンス変換を説明するが，それと同じ要領で「一般の行列をQR分解する」ためにギブンス変換を行う．（ここでは説明は省略）"
   ]
  },
  {
   "cell_type": "markdown",
   "metadata": {},
   "source": [
    "ここではまず一般の行列に対するQR分解である`np.linalg.qr`（またはscipyの`scipy.linalg.qr`）を用いる．\n",
    "\n",
    "- https://numpy.org/doc/stable/reference/generated/numpy.linalg.qr.html\n",
    "- https://docs.scipy.org/doc/scipy/reference/generated/scipy.linalg.qr.html"
   ]
  },
  {
   "cell_type": "code",
   "execution_count": null,
   "metadata": {},
   "outputs": [],
   "source": [
    "with np.printoptions(formatter={'float': '{: 12.8f}'.format}, suppress=True, linewidth=100):\n",
    "    Q, R = np.linalg.qr(A)\n",
    "    # Q, R = scipy.linalg.qr(A)\n",
    "    print(\"Q\\n\", Q, sep='')\n",
    "    print(\"R\\n\", R, sep='')\n",
    "    print(\"QR == A\", np.allclose(Q @ R, A))\n"
   ]
  },
  {
   "cell_type": "markdown",
   "metadata": {},
   "source": [
    "実対称行列$A$に対してこのQR分解を繰り返し適用するのがQR法である．\n",
    "\n",
    "- $A^{(0)} = A, k=0$\n",
    "- 収束するまで以下を反復\n",
    "    - QR分解を行う：$A^{(k)} = Q^{(k)} R^{(k)}$\n",
    "    - $A^{(k+1)} \\leftarrow R^{(k)} Q^{(k)}$\n",
    "\n",
    "ここで\n",
    "\\begin{align*}\n",
    "A^{(k)} &= Q^{(k)} R^{(k)} \\\\\n",
    "A^{(k)} Q^{(k)} &= Q^{(k)} R^{(k)} Q^{(k)} \\\\\n",
    "Q^{(k)T} A^{(k)} Q^{(k)} &=  R^{(k)} Q^{(k)}\n",
    "\\end{align*}\n",
    "であるため，\n",
    "\\begin{align*}\n",
    "    A^{(k+1)} &= R^{(k)} Q^{(k)} \\\\\n",
    "    &= Q^{(k)T} A^{(k)} Q^{(k)} \\\\\n",
    "    &= Q^{(k)T}Q^{(k-1)T} A^{(k-1)} Q^{(k-1)}Q^{(k)} \\\\\n",
    "    & \\vdots \\\\\n",
    "    &= Q^{(k)T}Q^{(k-1)T} \\cdots Q^{(0)T} A^{(0)} Q^{(0)} \\cdots Q^{(k-1)}Q^{(k)} \\\\\n",
    "    &= Q_X^T A^{(0)} Q_X\n",
    "\\end{align*}\n",
    "ここで$Q_X = Q^{(0)} \\cdots Q^{(k-1)}Q^{(k)}$は直交行列であり，\n",
    "したがって$A$と$A^{(k+1)}$は相似であり（$A \\sim A^{(k+1)}$），固有値は等しい．\n",
    "\n",
    "\n",
    "$A$の固有値が\n",
    "$$\n",
    "|\\lambda_1| > |\\lambda_2| > \\cdots > |\\lambda_n| > 0\n",
    "$$\n",
    "を満たすと仮定すると，\n",
    "この反復によって，$A^{(k)}$は\n",
    "対角成分$a_{ii}$に固有値$\\lambda_i$を持つ対角行列に収束する（証明は省略）．\n",
    "\n",
    "\\begin{align*}\n",
    "\\lim_{k \\to \\infty} A^{(k)}\n",
    "=\n",
    "\\begin{pmatrix}\n",
    "\\lambda_1 & \\\\\n",
    "       & \\lambda_2 \\\\\n",
    "       &        & \\lambda_3 &  \\\\\n",
    "       &        &        & \\ddots &  \\\\\n",
    "       &        &        &        & \\lambda_n\n",
    "\\end{pmatrix}\n",
    "\\end{align*}\n",
    "\n",
    "\n",
    "なお非対称行列の場合にもQR法は有効であるが，その場合には\n",
    "対角行列ではなく上三角行列に収束する（そのため対角化ではなくシュール分解になる）．"
   ]
  },
  {
   "cell_type": "markdown",
   "metadata": {},
   "source": [
    "一般の$n$次対称行列に対するQR分解の計算量は$O(n^3)$であり，毎回の反復でこれを計算するのは非常に計算量が大きい．\n",
    "またQR法の収束は1次であるため，反復回数が多い．\n",
    "\n",
    "QR法の各ステップの計算量を削減するために，以下の手順をとる．\n",
    "\n",
    "1. まずハウスホルダー法で元の行列を三重対角行列に変換する（$O(n^3)$）．\n",
    "    三重対角行列に対するQR変換では三重対角は保たれる．\n",
    "2. 三重対角行列を上三角行列へ変換する（つまりQR分解を行う）にはギブンス変換を用いる（$O(n^2)$）．\n",
    "3. さらに工夫をすることで（Wilkinson shiftなどで）QR法の反復の計算量を削減できる（Golub & Van Loan, Matirx Computation, 4th ed., 2013を参照）．\n",
    "\n",
    "\n",
    "以下では，まず一般のQR分解を用いたQR法を説明する．\n",
    "次に，上記ステップ1のハウスホルダー法で上三角行列に変換できることを説明する．\n",
    "最後に，上記ステップ2のギブンス変換でQR分解ができることを説明する\n",
    "（ステップ3は省略）．\n"
   ]
  },
  {
   "cell_type": "markdown",
   "metadata": {},
   "source": [
    "### 1.3.1. <a id='toc1_3_1_'></a>[単純なQR分解の反復適用](#toc0_)\n",
    "\n",
    "まず一般のQR分解である`np.linalg.qr`を用いて，QR法を確認する．\n",
    "最初の2回の反復で$A_1, A_2$は以下のように求められる．"
   ]
  },
  {
   "cell_type": "code",
   "execution_count": null,
   "metadata": {},
   "outputs": [],
   "source": [
    "with np.printoptions(formatter={'float': '{: 12.8f}'.format}, suppress=True, linewidth=100):\n",
    "\n",
    "    A0 = A.copy()\n",
    "    print(\"A0\\n\", A0, sep='')\n",
    "    Qall = np.eye(A.shape[0])\n",
    "\n",
    "    Q0, R0 = np.linalg.qr(A0)\n",
    "    A1 = R0 @ Q0\n",
    "    print(\"A1\\n\", A1, sep='')\n",
    "    print(\"Q0.T A Q0\\n\", Q0.T @ A @ Q, sep='')\n",
    "    Qall = Qall @ Q0\n",
    "    print(\"Qx.T A Qx\\n\", Qall.T @ A @ Qall, sep='')\n",
    "\n",
    "    Q1, R1 = np.linalg.qr(A1)\n",
    "    A2 = R1 @ Q1\n",
    "    print(\"A2\\n\", A2, sep='')\n",
    "    print(\"Q1.T Q0.T A Q0 Q1\\n\", Q1.T @ Q0.T @ A @ Q0 @ Q1, sep='')\n",
    "    Qall = Qall @ Q1\n",
    "    print(\"Qx.T A Qx\\n\", Qall.T @ A @ Qall, sep='')\n"
   ]
  },
  {
   "cell_type": "markdown",
   "metadata": {},
   "source": [
    "これを反復すると以下のようになる．収束が遅いため，10回程度の反復では下三角成分は収束しない（特に優対角成分と劣対角成分が残る）．"
   ]
  },
  {
   "cell_type": "code",
   "execution_count": null,
   "metadata": {},
   "outputs": [],
   "source": [
    "A0 = A.copy()\n",
    "\n",
    "Qall = np.eye(A0.shape[0])\n",
    "maxiter = 10\n",
    "for i in range(maxiter):\n",
    "    Q, R = np.linalg.qr(A0)\n",
    "    A0 = R @ Q\n",
    "    Qall = Qall @ Q\n",
    "    print()\n",
    "    print(i, diag(A0))\n",
    "    QtAQ = Qall.T @ A @ Qall\n",
    "\n",
    "    print(\"Q^T A Q == A^(k+1)\", np.allclose(QtAQ, A0))\n",
    "\n",
    "    print(\n",
    "        \"max of abs of lower diagonals of Q^T A Q\",\n",
    "        np.abs(QtAQ[np.tril_indices(n, k=-1)]).max()\n",
    "    )\n",
    "\n",
    "    with np.printoptions(formatter={'float': '{: 12.8f}'.format}, suppress=True, linewidth=100):\n",
    "        print(\"Q^T A Q\\n\", QtAQ, sep='')\n"
   ]
  },
  {
   "cell_type": "markdown",
   "metadata": {},
   "source": [
    "これを関数にしたものが以下の実装である．\n",
    "\n",
    "- `eigvalsh_by_qr_method()`は固有値だけを求める関数であり，\n",
    "- `eigh_by_qr_method()`は固有値と固有ベクトルを求める関数である．\n",
    "\n",
    "どちらもアルゴリズムは同じであるが，$Q_X$（`Qall`）を計算し保持する部分が異なる．\n",
    "\n",
    "終了条件は対角成分である固有値が変化しなくなるまで，とすると下三角成分はまだ0に収束していない．\n",
    "そこで優対角成分も変化しなくなるまでとしている．\n",
    "\n",
    "なお引数`qr_decomp`にはQR分解ソルバーを指定する．\n",
    "デフォルトでは`np.linalg.qr`であるが，\n",
    "入出力が同じ自作ソルバーを使うこともできる．"
   ]
  },
  {
   "cell_type": "code",
   "execution_count": null,
   "metadata": {},
   "outputs": [],
   "source": [
    "def eigvalsh_by_qr_method(\n",
    "    A0: np.ndarray,\n",
    "    maxiter: int = 1000,\n",
    "    qr_decomp: callable = np.linalg.qr\n",
    ") -> Tuple[np.ndarray, np.ndarray]:\n",
    "    \"\"\"Computing eigenvalues and eigenvectors by QR decompoition\n",
    "\n",
    "    Args:\n",
    "        A0 (np.ndarray): nxn matrix\n",
    "        maxiter (int, optional): max iterations. Defaults to 1000.\n",
    "        qr_decomp (callable, optional): QR decomposition solver. Defaults to np.linalg.qr.\n",
    "\n",
    "    Returns:\n",
    "        (np.ndarray) : n-d vector of eigenvalues\n",
    "    \"\"\"\n",
    "    assert A0.ndim == 2\n",
    "    assert A0.shape[0] == A0.shape[1]\n",
    "    A = A0.copy()\n",
    "\n",
    "    lmd_pre = diag(A)\n",
    "    lmd1_pre = diag(A, k=1)\n",
    "\n",
    "    for i in range(maxiter):\n",
    "        Q, R = qr_decomp(A)\n",
    "        A = R @ Q\n",
    "\n",
    "        lmd = diag(A)\n",
    "        lmd1 = diag(A, k=1)\n",
    "        with np.printoptions(formatter={'float': '{: 12.8f}'.format}, suppress=True, linewidth=100):\n",
    "            print(f\"lmd  {i:2d}\", lmd)\n",
    "            print(f\"lmd1 {i:2d}\", lmd1)\n",
    "\n",
    "        if np.allclose(lmd, lmd_pre) and np.allclose(lmd1, lmd1_pre):\n",
    "            with np.printoptions(formatter={'float': '{: 12.8f}'.format}, suppress=True, linewidth=100):\n",
    "                print(\"A\\n\", A, sep='')\n",
    "            break\n",
    "\n",
    "        lmd_pre = lmd.copy()\n",
    "        lmd1_pre = lmd1.copy()\n",
    "\n",
    "    return lmd\n"
   ]
  },
  {
   "cell_type": "code",
   "execution_count": null,
   "metadata": {},
   "outputs": [],
   "source": [
    "def eigh_by_qr_method(\n",
    "    A0: np.ndarray,\n",
    "    maxiter: int = 1000,\n",
    "    qr_decomp: callable = np.linalg.qr\n",
    ") -> Tuple[np.ndarray, np.ndarray]:\n",
    "    \"\"\"Computing eigenvalues and eigenvectors by QR decompoition\n",
    "\n",
    "    Args:\n",
    "        A0 (np.ndarray): nxn matrix\n",
    "        maxiter (int, optional): max iterations. Defaults to 1000.\n",
    "        qr_decomp (callable, optional): QR decomposition solver. Defaults to np.linalg.qr.\n",
    "\n",
    "    Returns:\n",
    "        Tuple[np.ndarray, np.ndarray]: n-d vector of eigenvalues and orthogonal matrix with eigenvector columns\n",
    "    \"\"\"\n",
    "    assert A0.ndim == 2\n",
    "    assert A0.shape[0] == A0.shape[1]\n",
    "    n = A0.shape[0]\n",
    "    A = A0.copy()\n",
    "\n",
    "    Qall = np.eye(n)\n",
    "    lmd_pre = diag(A)\n",
    "    lmd1_pre = diag(A, k=1)\n",
    "\n",
    "    for i in range(maxiter):\n",
    "        Q, R = qr_decomp(A)\n",
    "        A = R @ Q\n",
    "        Qall = Qall @ Q\n",
    "\n",
    "        lmd = diag(A)\n",
    "        lmd1 = diag(A, k=1)\n",
    "        with np.printoptions(formatter={'float': '{: 12.8f}'.format}, suppress=True, linewidth=100):\n",
    "            print(f\"lmd  {i:2d}\", lmd)\n",
    "            print(f\"lmd1 {i:2d}\", lmd1)\n",
    "\n",
    "        if np.allclose(lmd, lmd_pre) and np.allclose(lmd1, lmd1_pre):\n",
    "            with np.printoptions(formatter={'float': '{: 12.8f}'.format}, suppress=True, linewidth=100):\n",
    "                print(\"A\\n\", A, sep='')\n",
    "            break\n",
    "\n",
    "        lmd_pre = lmd.copy()\n",
    "        lmd1_pre = lmd1.copy()\n",
    "\n",
    "    return lmd, Qall\n"
   ]
  },
  {
   "cell_type": "markdown",
   "metadata": {},
   "source": [
    "以下のコードは固有値だけを計算している．\n",
    "またQR分解ソルバーを`scipy.linalg.qr`に変更しても結果は同じことが確認できる．"
   ]
  },
  {
   "cell_type": "code",
   "execution_count": null,
   "metadata": {
    "scrolled": false
   },
   "outputs": [],
   "source": [
    "with np.printoptions(formatter={'float': '{: 12.12f}'.format}, suppress=True, linewidth=100):\n",
    "    print(\"using numpy QR\")\n",
    "    d  = eigvalsh_by_qr_method(A)\n",
    "    print(d)\n",
    "    # print(\"using scipy QR\")\n",
    "    # d  = eigvalsh_by_qr_method(A, qr_decomp=scipy.linalg.qr)\n",
    "    # print(d)\n"
   ]
  },
  {
   "cell_type": "markdown",
   "metadata": {},
   "source": [
    "以下のように，この固有値は`np.linalg.eigh`の結果とほぼ一致する．\n",
    "ただし`np.allclose()`では場合によってはFalseになる場合もある．"
   ]
  },
  {
   "cell_type": "code",
   "execution_count": null,
   "metadata": {},
   "outputs": [],
   "source": [
    "d_np, _ = np.linalg.eigh(A)\n",
    "d_np = d_np[::-1]\n",
    "\n",
    "with np.printoptions(formatter={'float': '{: 12.12f}'.format}, suppress=True, linewidth=100):\n",
    "    print(\"d_np\", d_np)\n",
    "    print(\"d   \", d)\n",
    "    print(\"d == d_np\", np.allclose(d, d_np))\n"
   ]
  },
  {
   "cell_type": "markdown",
   "metadata": {},
   "source": [
    "以下のコードは固有値と固有ベクトルを計算し，対角化できているかを確認している．\n",
    "\n",
    "なお\n",
    "\n",
    "- $\\mathrm{diag}(U^T A U) = (\\lambda_1, \\ldots, \\lambda_n)^T$\n",
    "\n",
    "つまりベクトルとして比較すると，固有値は精度良く求められていることが分かる．\n",
    "また\n",
    "\n",
    "- $U^T A U = \\mathrm{diag}(\\lambda_1, \\ldots, \\lambda_n)$\n",
    "\n",
    "もしくは\n",
    "\n",
    "- $A = U \\mathrm{diag}(\\lambda_1, \\ldots, \\lambda_n) U^T$\n",
    "\n",
    "つまり行列として比較しても，`np.allclose()`による判定では一致していることがわかる（場合によっては計算誤差のためにFalseになる場合もある）．\n",
    "\n"
   ]
  },
  {
   "cell_type": "code",
   "execution_count": null,
   "metadata": {
    "scrolled": false
   },
   "outputs": [],
   "source": [
    "with np.printoptions(formatter={'float': '{: 12.8f}'.format}, suppress=True, linewidth=100):\n",
    "    d, U = eigh_by_qr_method(A)\n",
    "    print(\"d\", d)\n",
    "    print(\"U\\n\", U, sep='')\n",
    "\n",
    "    # check\n",
    "    print(\n",
    "        \"diag(U.T A U) == d\", np.allclose(diag(U.T @ A @ U), d),\n",
    "        \"||diag(U.T A U) - d||\", norm(diag(U.T @ A @ U) - d)\n",
    "        )\n",
    "    print(\n",
    "        \"U diag(d) U^T == A\", np.allclose(U @ diag(d) @ U.T, A),\n",
    "        \"||U diag(d) U^T - A||\", norm(U @ diag(d) @ U.T - A)\n",
    "        )\n",
    "    print(\"U diag(d) U^T - A\\n\", U @ diag(d) @ U.T - A, sep='')\n",
    "    print(\n",
    "        \"U^T A U == diag(d)\", np.allclose(U.T @ A @ U, diag(d)),\n",
    "        \"||U^T A U - diag(d)||\", norm(U.T @ A @ U - diag(d))\n",
    "        )\n",
    "    print(\"U^T A U - diag(d)\\n\", U.T @ A @ U - diag(d), sep='')\n"
   ]
  },
  {
   "cell_type": "markdown",
   "metadata": {},
   "source": [
    "以下のように`np.linalg.eigh`で得られる固有ベクトルと比較しても，ほぼ一致していることがわかる．\n",
    "\n",
    "ただしQR法の反復はQR分解の計算量が多く反復回数も多いため，QR法では固有値だけを計算して，固有ベクトルはレイリー商反復などで求めるほうが，\n",
    "計算量的にも（数本の固有ベクトルを求めるだけなら），計算精度的にもよい場合がある．"
   ]
  },
  {
   "cell_type": "code",
   "execution_count": null,
   "metadata": {},
   "outputs": [],
   "source": [
    "with np.printoptions(formatter={'float': '{: 12.8f}'.format}, suppress=True, linewidth=100):\n",
    "    d_np, U_np = np.linalg.eigh(A)\n",
    "    U_np = U_np[:, ::-1]\n",
    "    d_np = d_np[::-1]\n",
    "\n",
    "    print(\"d_np\", d_np)\n",
    "    print(\"d   \", d)\n",
    "    print(\"d == d_np\", np.allclose(d, d_np))\n",
    "\n",
    "    print(\"U_np\\n\", U_np, sep='')\n",
    "    print(\"U\\n\", U, sep='')\n",
    "\n",
    "    for i in range(len(U)):\n",
    "        print(\n",
    "            f\"Are {i}th columns of U and U_np equal?:\",\n",
    "            np.allclose(U[:, i], U_np[:, i]) or np.allclose(U[:, i], -U_np[:, i])\n",
    "            )\n"
   ]
  },
  {
   "cell_type": "markdown",
   "metadata": {},
   "source": [
    "### 1.3.2. <a id='toc1_3_2_'></a>[ハウスホルダー法（Householder method）](#toc0_)\n",
    "\n",
    "直交行列はその行列式は$\\pm 1$であるが，行列式が$-1$であるものを鏡映行列，\n",
    "行列式が$+1$であるものを回転行列と呼ぶ．\n",
    "\n",
    "ハウスホルダー法は，鏡映行列とベクトルの積をとると，\n",
    "その結果のベクトルが1つの要素を除き0になるような鏡映行列（ハウスホルダー行列）を用いて，\n",
    "$n-1$回の変換で$n$次対称行列を三重対角行列へ変換する方法である．\n",
    "\n",
    "（なお次で説明するギブンス回転は，回転行列とベクトルの積を取ると，\n",
    "その結果のベクトルのうち指定した1つの要素を0にするような回転行列を用いて変換を行う．）\n",
    "\n"
   ]
  },
  {
   "cell_type": "markdown",
   "metadata": {},
   "source": [
    "\n",
    "#### 1.3.2.1. <a id='toc1_3_2_1_'></a>[鏡映変換](#toc0_)\n",
    "\n",
    "単位ベクトル$\\boldsymbol{u} \\in R^n$を法線とする超平面に関する鏡映変換を表す行列$H \\in R^{n \\times n}$は次式で表される．\n",
    "\n",
    "$$\n",
    "H = I - 2 \\boldsymbol{u} \\boldsymbol{u}^T\n",
    "$$\n",
    "\n",
    "この$H$はハウスホルダー行列と呼ばれる．\n",
    "あきらかに$H$は対称行列であり，したがって$H = H^T = H^{-1}$である．\n",
    "ここで$\\boldsymbol{x}, \\boldsymbol{y} \\in R^n$があって，\n",
    "$\\boldsymbol{x}$の鏡映変換をした結果が$\\boldsymbol{y}$であるようにしたい，つまり\n",
    "\n",
    "$$\n",
    "\\boldsymbol{y} = H \\boldsymbol{x}\n",
    "$$\n",
    "\n",
    "としたい場合には，単位法線ベクトル$\\boldsymbol{u}$として以下のようにすればよい．\n",
    "\n",
    "$$\n",
    "\\boldsymbol{u} = \\frac{\\boldsymbol{x} - \\boldsymbol{y}}{\\| \\boldsymbol{x} - \\boldsymbol{y} \\|}\n",
    "$$\n"
   ]
  },
  {
   "cell_type": "markdown",
   "metadata": {},
   "source": [
    "#### 1.3.2.2. <a id='toc1_3_2_2_'></a>[ハウスホルダー変換](#toc0_)\n",
    "\n",
    "##### 1.3.2.2.1. <a id='toc1_3_2_2_1_'></a>[1列目](#toc0_)\n",
    "\n",
    "まず実対称行列$A$の左から鏡映変換$Q_1$をかけて，$A$の第1列をできるだけ0にすることを考える．\n",
    "\n",
    "\\begin{align*}\n",
    "Q_1\n",
    "\\begin{pmatrix}\n",
    "a_{11} & a_{12} & \\cdots & a_{1n} \\\\\n",
    "a_{21} & a_{22} & \\cdots & a_{2n} \\\\\n",
    "a_{31} & a_{32} & \\cdots & a_{3n} \\\\\n",
    "\\vdots & \\vdots & \\ddots & \\vdots \\\\\n",
    "a_{n1} & a_{n2} & \\cdots & a_{nn}\n",
    "\\end{pmatrix}\n",
    "=\n",
    "\\begin{pmatrix}\n",
    "a_{11} & a_{12} & \\cdots & a_{1n} \\\\\n",
    "* & * & \\cdots & * \\\\\n",
    "0 & * & \\cdots & * \\\\\n",
    "\\vdots & \\vdots & \\ddots & \\vdots \\\\\n",
    "0 & * & \\cdots & *\n",
    "\\end{pmatrix}\n",
    "\\end{align*}\n",
    "\n",
    "ここで$*$は何らかの値（0ではない，が0でもよい任意の値）を意味する．\n",
    "つまり$A$の第1行は保存し，第1列の第3要素以下を0にする．そのための行列が\n",
    "\\begin{align*}\n",
    "Q_1 &=\n",
    "\\begin{pmatrix}\n",
    "1 &  \\\\\n",
    " & H_1 \\\\\n",
    "\\end{pmatrix}\n",
    "\\in R^{n \\times n}\n",
    "\\end{align*}\n",
    "である．\n",
    "これを$A$の左からかけると，$A$の第1行は保存され，\n",
    "第2行以下だけがハウスホルダー行列$H_1 \\in R^{n-1 \\times n-1}$の変換を受ける．\n",
    "\n",
    "ここで1列目の2行目以下を$n-1$次元ベクトル$\\boldsymbol{x}$，\n",
    "$A$の右下$(n-1) \\times (n-1)$部分を$A_{n-1}$と書くと，\n",
    "$A$は次のように表される．\n",
    "\\begin{align*}\n",
    "A &=\n",
    "\\begin{pmatrix}\n",
    "a_{11} & \\boldsymbol{x}^T \\\\\n",
    "\\boldsymbol{x} & A_{n-1} \\\\\n",
    "\\end{pmatrix}\n",
    "\\end{align*}\n",
    "\n",
    "ここでの目標は1列目2行目以下の$\\boldsymbol{x}$の部分をハウスホルダー変換によってできるだけ0にすることであり，\n",
    "$n-1$次元ベクトル$\\boldsymbol{y}$として以下のように取ればよい．\n",
    "\n",
    "\\begin{align*}\n",
    "\\boldsymbol{x} &= (a_{21}, a_{31}, \\ldots, a_{n1})^T \\in R^{n-1} \\\\\n",
    "\\boldsymbol{y} &= (y_1, 0, \\ldots, 0)^T \\in R^{n-1}\n",
    "\\end{align*}\n",
    "\n",
    "ここで$y_1$は定数である．\n",
    "$\\boldsymbol{y} = H \\boldsymbol{x}$であり，直交変換はベクトルの長さを保存するため\n",
    "（つまり$\\| \\boldsymbol{x} \\| = \\| \\boldsymbol{y} \\|$），\n",
    "$y_1 = \\pm \\| \\boldsymbol{x} \\|$\n",
    "とすればよい．\n",
    "ただし\n",
    "\\begin{align*}\n",
    "\\boldsymbol{u} &= \\frac{\\boldsymbol{x} - \\boldsymbol{y}}{\\| \\boldsymbol{x} - \\boldsymbol{y} \\|}\n",
    "\\propto\n",
    "(a_{21} - y_1, a_{31}, \\ldots, a_{n1})^T\n",
    "\\end{align*}\n",
    "であり，第1要素で減算が生じるため，桁落ちを防ぐために\n",
    "$a_{21}$とは逆の符号を用いる．つまり\n",
    "$y_1 = - \\mathrm{sgn}(a_{21}) \\| \\boldsymbol{x} \\|$\n",
    "とする．\n",
    "これで以下が実現できる．\n",
    "\\begin{align*}\n",
    "Q_1 A &=\n",
    "\\begin{pmatrix}\n",
    "a_{11} & \\boldsymbol{x}^T \\\\\n",
    "\\boldsymbol{y} & H_1 A_{n-1} \\\\\n",
    "\\end{pmatrix}\n",
    "\\end{align*}\n",
    "\n",
    "\n",
    "$A$は対称行列であるので，$H$（つまり$Q_1$）を右からかけると，\n",
    "第1行2列目以降の$\\boldsymbol{x}^T$に対して同様に適用できる．\n",
    "つまり\n",
    "\n",
    "\\begin{align*}\n",
    "A &=\n",
    "\\begin{pmatrix}\n",
    "a_{11} & \\boldsymbol{x}^T \\\\\n",
    "\\boldsymbol{x} & A_{n-1} \\\\\n",
    "\\end{pmatrix}\n",
    "\\\\\n",
    "Q_1 A Q_1 &=\n",
    "\\begin{pmatrix}\n",
    "a_{11} & (H_1 \\boldsymbol{x})^T \\\\\n",
    "H_1 \\boldsymbol{x} & H_1 A_{n-1} H_1 \\\\\n",
    "\\end{pmatrix}\n",
    "\\\\\n",
    " &=\n",
    "\\begin{pmatrix}\n",
    "a_{11} & \\boldsymbol{y}^T \\\\\n",
    "\\boldsymbol{y} & H_1 A_{n-1} H_1 \\\\\n",
    "\\end{pmatrix}\n",
    "\\\\\n",
    "&=\n",
    "\\left(\n",
    "\\begin{array}{c|c}\n",
    "a_{11} &\n",
    "\\begin{array}{c}\n",
    "y_1 & 0 & \\cdots & 0\n",
    "\\end{array}\n",
    "\\\\ \\hline\n",
    "\\begin{array}{c}\n",
    "y_1 \\\\ 0 \\\\ \\vdots \\\\ 0\n",
    "\\end{array}\n",
    "& H_1 A_{n-1} H_1\n",
    "\\end{array}\n",
    "\\right)\n",
    "\\end{align*}\n",
    "\n",
    "これで第1列と第1行の要素は三重対角に変換されたことになる．\n"
   ]
  },
  {
   "cell_type": "markdown",
   "metadata": {},
   "source": [
    "\n",
    "##### 1.3.2.2.2. <a id='toc1_3_2_2_2_'></a>[2列目](#toc0_)\n",
    "\n",
    "次に$H_1 A_{n-1} H \\in R^{n-1 \\times n-1}$に対して同様の処理を行う．\n",
    "そのためには\n",
    "\\begin{align*}\n",
    "Q_2 &=\n",
    "\\begin{pmatrix}\n",
    "1 &  \\\\\n",
    "  & 1 \\\\\n",
    "  &   & H_2 \\\\\n",
    "\\end{pmatrix}\n",
    "\\in R^{n \\times n}\n",
    "\\end{align*}\n",
    "を用いる．なお$H\\in R^{n-2 \\times n-2}$の部分の次元は$n-2$となり，反復毎に小さくなる．\n",
    "これにより以下のようになる．\n",
    "\\begin{align*}\n",
    "Q_2 Q_1 A Q_1 Q_2\n",
    "&=\n",
    "\\left(\n",
    "\\begin{array}{c|c}\n",
    "\\begin{array}{cc}\n",
    "a_{11} & y_1 \\\\\n",
    "y_1 & a_{22}\n",
    "\\end{array}\n",
    "&\n",
    "\\begin{array}{c}\n",
    " 0 & 0 & \\cdots & 0 \\\\\n",
    " y_2 & 0 & \\cdots & 0 \\\\\n",
    "\\end{array}\n",
    "\\\\ \\hline\n",
    "\\begin{array}{cc}\n",
    "0 & y_2 \\\\ 0 & 0 \\\\ \\vdots & \\vdots \\\\ 0 & 0\n",
    "\\end{array}\n",
    "& H_2 [H_1 A_{n-1} H_1]_{n-2} H_2\n",
    "\\end{array}\n",
    "\\right)\n",
    "\\end{align*}\n",
    "なおここで$[H_1 A_{n-1} H_1]_{n-2}$は$H_1 A_{n-1} H_1$の右下$(n-2) \\times (n-2)$部分である．\n"
   ]
  },
  {
   "cell_type": "markdown",
   "metadata": {},
   "source": [
    "\n",
    "##### 1.3.2.2.3. <a id='toc1_3_2_2_3_'></a>[$k=1,2,\\ldots,n-2$列目](#toc0_)\n",
    "\n",
    "これを$n-2$回繰り返すと，\n",
    "\n",
    "$$\n",
    "Q_{n-2} \\cdots Q_2 Q_1 A Q_1 Q_2 \\cdots Q_{n-2}\n",
    "$$\n",
    "\n",
    "は$A$を三重対角行列へ変換した行列になる．つまり\n",
    "\n",
    "$$\n",
    "Q_{\\mathrm{hh}} = Q_1 Q_2 \\cdots Q_{n-2}\n",
    "$$\n",
    "\n",
    "とすると\n",
    "\n",
    "$$\n",
    "A_{\\mathrm{tri}} = Q_{\\mathrm{hh}}^T A Q_{\\mathrm{hh}}\n",
    "$$"
   ]
  },
  {
   "cell_type": "markdown",
   "metadata": {},
   "source": [
    "### 実装\n",
    "\n",
    "以下はハウスホルダー変換の$k$回目の変換の実装である．"
   ]
  },
  {
   "cell_type": "code",
   "execution_count": null,
   "metadata": {},
   "outputs": [],
   "source": [
    "def householder_step(\n",
    "    A: np.ndarray,\n",
    "    k: int\n",
    ") -> Tuple[np.ndarray, np.ndarray]:\n",
    "    \"\"\"k-th step of Householder transform from nxn symmetric to tridiagonal\n",
    "\n",
    "    Args:\n",
    "        A (np.ndarray): an nxn symmetric matrix\n",
    "        k (int): step\n",
    "\n",
    "    Returns:\n",
    "        Tuple[np.ndarray, np.ndarray]: transformed matrix QAQ after k-th step, and the transfrom Q\n",
    "    \"\"\"\n",
    "    assert A.ndim == 2\n",
    "    assert A.shape[0] == A.shape[1]\n",
    "\n",
    "    n = A.shape[0]\n",
    "    assert 0 <= k < n - 2\n",
    "\n",
    "    x = A[k + 1:, k]\n",
    "    y = np.zeros_like(x)\n",
    "    y[0] = - np.sign(A[k + 1, k]) * norm(x)\n",
    "\n",
    "    print(\"x\", x)\n",
    "    print(\"y\", y)\n",
    "\n",
    "    u = (x - y) / norm(x - y)\n",
    "    H = np.eye(len(x)) - 2 * np.outer(u, u)\n",
    "\n",
    "    Q = np.eye(n)\n",
    "    Q[k + 1:, k + 1:] = H\n",
    "\n",
    "    QAQ = Q @ A @ Q\n",
    "    return QAQ, Q\n"
   ]
  },
  {
   "cell_type": "markdown",
   "metadata": {},
   "source": [
    "ハウスホルダー法は，これを各列についてn-2回繰り返す．\n"
   ]
  },
  {
   "cell_type": "code",
   "execution_count": null,
   "metadata": {},
   "outputs": [],
   "source": [
    "def householder_transform(\n",
    "    A: np.ndarray,\n",
    ") -> Tuple[np.ndarray, np.ndarray]:\n",
    "    \"\"\"Householder transform from nxn symmetric to tridiagonal\n",
    "\n",
    "    Args:\n",
    "        A (np.ndarray): an nxn symmetric matrix\n",
    "\n",
    "    Returns:\n",
    "        Tuple[np.ndarray, np.ndarray]: tridiagonal Atri and orthogonal Qhh\n",
    "                                       so that Qhh A Qhh == Atri\n",
    "    \"\"\"\n",
    "    assert A.ndim == 2\n",
    "    assert A.shape[0] == A.shape[1]\n",
    "    n = A.shape[0]\n",
    "\n",
    "    Atri = A.copy()\n",
    "    Qhh = np.eye(n)\n",
    "    for k in range(n - 2):\n",
    "        print(f\"{k}-th step\")\n",
    "        Atri, Q = householder_step(Atri, k)\n",
    "        Qhh = Qhh @ Q\n",
    "        print(\"A\\n\", Atri, sep='')\n",
    "        print(\"Q\\n\", Q, sep='')\n",
    "        print(\"Qhh\\n\", Qhh, sep='')\n",
    "    return Atri, Qhh\n"
   ]
  },
  {
   "cell_type": "markdown",
   "metadata": {},
   "source": [
    "以下のコードでは，行列`A`を三重対角行列`Atri`に変換しており，\n",
    "そのための変換行列`Qhh`を得ている．"
   ]
  },
  {
   "cell_type": "code",
   "execution_count": null,
   "metadata": {},
   "outputs": [],
   "source": [
    "with np.printoptions(formatter={'float': '{: 12.8f}'.format}, suppress=True, linewidth=100):\n",
    "    Atri = A.copy()\n",
    "    print(\"A\\n\", Atri, sep='')\n",
    "    Atri, Qhh = householder_transform(Atri)\n",
    "    print(\"tridiagonalized Atri\\n\", Atri, sep='')\n",
    "    print(\"check Q.T A Q\\n\", Qhh.T @ A @ Qhh)\n",
    "    print(\"Q.T A Q == Atri\", np.allclose(Qhh.T @ A @ Qhh, Atri))\n"
   ]
  },
  {
   "cell_type": "markdown",
   "metadata": {},
   "source": [
    "得られた三重対角行列`Atri`に対してQR分解を行いQR変換を行っても，三重対角が保たれていることが確認できる．"
   ]
  },
  {
   "cell_type": "code",
   "execution_count": null,
   "metadata": {},
   "outputs": [],
   "source": [
    "with np.printoptions(formatter={'float': '{: 12.8f}'.format}, suppress=True, linewidth=100):\n",
    "    Q, R = np.linalg.qr(Atri)\n",
    "    print(\"Atri\\n\", Atri, sep='')\n",
    "    print(\"Q\\n\", Q, sep='')\n",
    "    print(\"R\\n\", R, sep='')\n",
    "    print(\"RQ\\n\", R @ Q, sep='')\n"
   ]
  },
  {
   "cell_type": "markdown",
   "metadata": {},
   "source": [
    "したがって，三重対角行列のQR分解の計算量が少なければ，QR法の計算量も少なくなる．\n",
    "三重対角行列をQR分解するには，直交行列を左からかけて上三角行列にすればよい．\n",
    "そのためには，三重対角行列\n",
    "\n",
    "\\begin{align*}\n",
    "A &=\n",
    "\\begin{pmatrix}\n",
    "a_{11} & a_{12} & 0 & 0 & \\cdots & 0 & 0 & 0 \\\\\n",
    "a_{21} & a_{22} & a_{23} & 0 & \\cdots & 0 & 0 & 0 \\\\\n",
    "0      & a_{32} & a_{33} & a_{34} & \\cdots & 0 & 0 & 0 \\\\\n",
    "0      & 0      & a_{43} & a_{44} & \\cdots & 0 & 0 & 0 \\\\\n",
    "\\vdots & \\vdots & \\vdots & \\vdots & \\ddots & \\vdots  & \\vdots & \\vdots \\\\\n",
    "0 & 0 & 0 & 0 & \\cdots & a_{n-2, n-2} & a_{n-2, n-1} & 0\\\\\n",
    "0 & 0 & 0 & 0 & \\cdots & a_{n-1, n-2} & a_{n-1, n-1} & a_{n-1, n} \\\\\n",
    "0 & 0 & 0 & 0 & \\cdots & 0 & a_{n, n-1} & a_{nn} \\\\\n",
    "\\end{pmatrix}\n",
    "\\end{align*}\n",
    "\n",
    "の$n-1$個の劣対角成分$a_{21}, a_{32}, \\ldots, a_{n, n-1}$\n",
    "を0にする直交変換を見つければよい．\n",
    "\n",
    "これが以下に説明するギブンス変換であり，$n-1$個の対角成分を1つずつ0にするギブンス回転を$n-1$回適用する．\n"
   ]
  },
  {
   "cell_type": "markdown",
   "metadata": {},
   "source": [
    "### 1.3.3. <a id='toc1_3_3_'></a>[ギブンス変換](#toc0_)\n",
    "\n",
    "ハウスホルダー法は鏡映行列を利用して列ごとに要素の多くを一度に0に変換したが，\n",
    "ギブンス変換はギブンス回転（Givens rotation）を利用して，\n",
    "指定した1つの要素を0にするような変換を行う．\n",
    "\n",
    "ギブンス回転行列$G$は次のようなものである．"
   ]
  },
  {
   "cell_type": "markdown",
   "metadata": {},
   "source": [
    "\\begin{align*}\n",
    "G(p, q, \\theta) =\n",
    "\\begin{pmatrix}\n",
    "1 & \\cdots & 0 & \\cdots & 0 & \\cdots & 0 \\\\\n",
    "\\vdots &  & \\vdots &  & \\vdots &  & \\vdots \\\\\n",
    "0 & \\cdots & \\cos\\theta & \\cdots & \\sin\\theta & \\cdots & 0 \\\\\n",
    "\\vdots &  & \\vdots &  & \\vdots &  & \\vdots \\\\\n",
    "0 & \\cdots & -\\sin\\theta & \\cdots & \\cos\\theta & \\cdots & 0 \\\\\n",
    "\\vdots &  & \\vdots &  & \\vdots &  & \\vdots \\\\\n",
    "0 & \\cdots & 0 & \\cdots & 0 & \\cdots & 1 \\\\\n",
    "\\end{pmatrix}\n",
    "\\end{align*}"
   ]
  },
  {
   "cell_type": "markdown",
   "metadata": {},
   "source": [
    "ここで回転行列$G$は，$p,q$行目と$p,q$列目（$p < q$）の4つの要素だけが$\\sin$または$\\cos$であり，その他の要素は単位行列と同じである．これは$p$-$q$平面上での2次元回転を表す（例えば3次元であれば$y$-$z$平面など）．\n",
    "その2次元だけを考えて$2 \\times 2$行列で書くと次のようになる．\n",
    "\n",
    "\\begin{align*}\n",
    "R(\\theta) =\n",
    "\\begin{pmatrix}\n",
    "\\cos\\theta & \\sin\\theta  \\\\\n",
    "-\\sin\\theta & \\cos\\theta \\\\\n",
    "\\end{pmatrix}\n",
    "\\end{align*}\n",
    "\n",
    "この回転行列を適用して，片方の要素を0にしたい．つまり\n",
    "\n",
    "\\begin{align*}\n",
    "R(\\theta)^T\n",
    "\\begin{pmatrix}\n",
    "x_p \\\\ x_q\n",
    "\\end{pmatrix}\n",
    "=\n",
    "\\begin{pmatrix}\n",
    "* \\\\ 0\n",
    "\\end{pmatrix}\n",
    "\\end{align*}\n",
    "\n",
    "となる$\\sin$と$\\cos$を逆算する．これを用いて$G^T$を左から$A$にかければ，\n",
    "$A$の$q$行$p$列目の要素を0にすることができる．\n",
    "$n$次元ベクトル$\\boldsymbol{x}, \\boldsymbol{y}$に対する結果\n",
    "\n",
    "\\begin{align*}\n",
    "\\boldsymbol{y} = G(p, q, \\theta) \\boldsymbol{x}\n",
    "\\end{align*}\n",
    "\n",
    "は次のようになる．\n",
    "\n",
    "\\begin{align*}\n",
    "y_i &= x_i \\quad (i \\neq p, q) \\\\\n",
    "y_p &= x_p \\cos\\theta - x_q \\sin\\theta \\quad (i = p) \\\\\n",
    "y_q &= x_p \\sin\\theta + x_q \\cos\\theta \\quad (i = q) \\\\\n",
    "\\end{align*}\n",
    "\n",
    "したがって，以下のようにすればギブンス回転行列を構成できる．\n",
    "\n",
    "\\begin{align*}\n",
    "\\cos\\theta &= \\frac{x_p}{\\sqrt{x_p^2 + x_q^2}} \\\\\n",
    "\\sin\\theta &= \\frac{-x_q}{\\sqrt{x_p^2 + x_q^2}} \\\\\n",
    "\\end{align*}\n",
    "\n",
    "\n"
   ]
  },
  {
   "cell_type": "markdown",
   "metadata": {},
   "source": [
    "実際には$p$行目と$q$行目だけが影響を受けるため，その2行を抜き出して$2 \\times 2$回転行列を適用すれば計算量を削減することができる．"
   ]
  },
  {
   "cell_type": "markdown",
   "metadata": {},
   "source": [
    "ハウスホルダー法で対称行列を三重対角対称行列へ変換しているため，0にする目標要素は劣対角要素$a_{i+1, i}$である．これらをすべて0にして，かつ下三角成分を0に保てば，直交行列による上三角行列$R$への変換つまりQR分解が実現できる．\n",
    "\n",
    "$a_{21}$を0にするギブンス回転$G(2, 1, \\theta)$を$G_1$，\n",
    "$a_{32}$を0にするギブンス回転$G(3, 2, \\theta)$を$G_2$，\n",
    "などと書くことにする\n",
    "（つまり$a_{i+1, i}$を0にするギブンス回転$G(i+1, i, \\theta)$を$G_i$と書く）と，\n",
    "三重対角行列$A_{\\mathrm{tri}}$に対して順次適用すれば以下のようになる．\n",
    "\\begin{align*}\n",
    "G_{n-2}^T \\cdots G_2^T G_1^T A_{\\mathrm{tri}} &= R \\\\\n",
    "Q^T A_{\\mathrm{tri}} &= R \\\\\n",
    "A_{\\mathrm{tri}} &= Q R\n",
    "\\end{align*}\n",
    "ここで$Q = G_1 G_2 \\cdots G_{n-2}$である．"
   ]
  },
  {
   "cell_type": "markdown",
   "metadata": {},
   "source": [
    "#### 1.3.3.1. <a id='toc1_3_3_1_'></a>[実装](#toc0_)\n",
    "\n",
    "まず，ハウスホルダー法で得られた三重対角行列`Atri`を`AG`にコピーする．"
   ]
  },
  {
   "cell_type": "code",
   "execution_count": null,
   "metadata": {},
   "outputs": [],
   "source": [
    "AG = Atri.copy()\n",
    "\n",
    "with np.printoptions(formatter={'float': '{: 12.8f}'.format}, suppress=True, linewidth=100):\n",
    "    print(AG)\n"
   ]
  },
  {
   "cell_type": "markdown",
   "metadata": {},
   "source": [
    "この行列の，2行1列の要素（`AG[1, 0]`）を0にしたい．そこで`q=1, p=0`とする．"
   ]
  },
  {
   "cell_type": "code",
   "execution_count": null,
   "metadata": {},
   "outputs": [],
   "source": [
    "p, q = 0, 1\n"
   ]
  },
  {
   "cell_type": "markdown",
   "metadata": {},
   "source": [
    "以下は$2 \\times 2$ギブンス回転行列を作成する関数である．"
   ]
  },
  {
   "cell_type": "code",
   "execution_count": null,
   "metadata": {},
   "outputs": [],
   "source": [
    "def givens_r_matrix(ab):\n",
    "    \"\"\"generate a matrix of Givens rotation\n",
    "       from Gloub & Van Loan, Matrix Computation, 4th ed., 2013, Algorithm 5.1.3.\n",
    "\n",
    "    Args:\n",
    "        ab (ndarray): two values a, b\n",
    "\n",
    "    Returns:\n",
    "        ndarray: 2D rotation matrix\n",
    "    \"\"\"\n",
    "    assert len(ab) == 2\n",
    "\n",
    "    a, b = ab[0], ab[1]\n",
    "\n",
    "    if abs(b) > abs(a):\n",
    "        tau = -a / b\n",
    "        s = 1 / np.sqrt(1 + tau**2)\n",
    "        c = s * tau\n",
    "    else:\n",
    "        tau = -b / a\n",
    "        c = 1 / np.sqrt(1 + tau**2)\n",
    "        s = c * tau\n",
    "\n",
    "    R = np.array([\n",
    "        [c, s],\n",
    "        [-s, c]\n",
    "    ])\n",
    "    return R\n"
   ]
  },
  {
   "cell_type": "code",
   "execution_count": null,
   "metadata": {},
   "outputs": [],
   "source": [
    "def givens_r_matrix(\n",
    "    xp_xq: np.ndarray\n",
    ") -> np.ndarray:\n",
    "    \"\"\"generate a matrix of Givens rotation\n",
    "\n",
    "    Args:\n",
    "        xp_xq (ndarray): two values xp, xq\n",
    "\n",
    "    Returns:\n",
    "        ndarray: 2D rotation matrix\n",
    "    \"\"\"\n",
    "    assert len(xp_xq) == 2\n",
    "\n",
    "    xp, xq = xp_xq[0], xp_xq[1]\n",
    "\n",
    "    # denom = np.sqrt(xp**2 + xq**2)\n",
    "    denom = norm(xp_xq)\n",
    "    c = xp / denom\n",
    "    s = -xq / denom\n",
    "\n",
    "    R = np.array([\n",
    "        [c, s],\n",
    "        [-s, c]\n",
    "    ])\n",
    "    return R\n"
   ]
  },
  {
   "cell_type": "markdown",
   "metadata": {},
   "source": [
    "では$p$行目と$q$行目だけを抜き出して確認してみる．"
   ]
  },
  {
   "cell_type": "code",
   "execution_count": null,
   "metadata": {},
   "outputs": [],
   "source": [
    "with np.printoptions(formatter={'float': '{: 12.8f}'.format}, suppress=True, linewidth=100):\n",
    "    print(AG[[p, q]])\n"
   ]
  },
  {
   "cell_type": "markdown",
   "metadata": {},
   "source": [
    "実際にはこの2行のうちの$p$列目の2要素が必要となる．\n"
   ]
  },
  {
   "cell_type": "code",
   "execution_count": null,
   "metadata": {},
   "outputs": [],
   "source": [
    "AG[[p, q]][:, p]\n"
   ]
  },
  {
   "cell_type": "markdown",
   "metadata": {},
   "source": [
    "ではその2要素を用いてギブンス回転行列を構成する．"
   ]
  },
  {
   "cell_type": "code",
   "execution_count": null,
   "metadata": {},
   "outputs": [],
   "source": [
    "Rot2x2 = givens_r_matrix(AG[[p, q]][:, p])\n",
    "Rot2x2\n"
   ]
  },
  {
   "cell_type": "markdown",
   "metadata": {},
   "source": [
    "この回転行列を$p$行目と$q$行目だけに適用した結果を確認すると，確かに$q$行$p$列の要素が0になっていることが分かる．"
   ]
  },
  {
   "cell_type": "code",
   "execution_count": null,
   "metadata": {},
   "outputs": [],
   "source": [
    "with np.printoptions(formatter={'float': '{: 12.8f}'.format}, suppress=True, linewidth=100):\n",
    "    print(Rot2x2.T @ AG[[p, q]])\n"
   ]
  },
  {
   "cell_type": "markdown",
   "metadata": {},
   "source": [
    "この結果を`AG`に上書きして全体の結果を見ると，\n",
    "以下のよう$p$列目の劣対角成分が0にされて，上三角成分だけが残っていることが分かる．"
   ]
  },
  {
   "cell_type": "code",
   "execution_count": null,
   "metadata": {},
   "outputs": [],
   "source": [
    "AG[[p, q]] = Rot2x2.T @ AG[[p, q]]\n",
    "\n",
    "with np.printoptions(formatter={'float': '{: 12.8f}'.format}, suppress=True, linewidth=100):\n",
    "    print(AG)\n"
   ]
  },
  {
   "cell_type": "markdown",
   "metadata": {},
   "source": [
    "以降は，この手順を$(p, q) = (1, 2), (2, 3), (3, 4), \\ldots$について順次適用すればよい．"
   ]
  },
  {
   "cell_type": "code",
   "execution_count": null,
   "metadata": {},
   "outputs": [],
   "source": [
    "with np.printoptions(formatter={'float': '{: 12.8f}'.format}, suppress=True, linewidth=100):\n",
    "    print(\"AG\\n\", AG, sep='')\n",
    "\n",
    "    p, q = 1, 2\n",
    "    print(f\"AG[[{p}, {q}]]\\n\", AG[[p, q]], sep='')\n",
    "    Rot2x2 = givens_r_matrix(AG[[p, q]][:, p])\n",
    "    AG[[p, q]] = Rot2x2.T @ AG[[p, q]]\n",
    "    print(f\"R AG[[{p}, {q}]]\\n\", AG[[p, q]], sep='')\n",
    "    print(\"AG\\n\", AG, sep='')\n",
    "\n",
    "    p, q = 2, 3\n",
    "    print(f\"AG[[{p}, {q}]]\\n\", AG[[p, q]], sep='')\n",
    "    Rot2x2 = givens_r_matrix(AG[[p, q]][:, p])\n",
    "    AG[[p, q]] = Rot2x2.T @ AG[[p, q]]\n",
    "    print(f\"R AG[[{p}, {q}]]\\n\", AG[[p, q]], sep='')\n",
    "    print(\"AG\\n\", AG, sep='')\n",
    "\n",
    "    p, q = 3, 4\n",
    "    print(f\"AG[[{p}, {q}]]\\n\", AG[[p, q]], sep='')\n",
    "    Rot2x2 = givens_r_matrix(AG[[p, q]][:, p])\n",
    "    AG[[p, q]] = Rot2x2.T @ AG[[p, q]]\n",
    "    print(f\"R AG[[{p}, {q}]]\\n\", AG[[p, q]], sep='')\n",
    "    print(\"AG\\n\", AG, sep='')\n"
   ]
  },
  {
   "cell_type": "markdown",
   "metadata": {},
   "source": [
    "これで上三角行列$R$に変換はできたが，直交変換$G_1, G_2, \\ldots$を得るためには，\n",
    "$2 \\times 2$回転行列を$n \\times n$行列$Q$に格納する必要がある．\n",
    "\n",
    "ここで$Q = G_1 G_2 \\cdots G_{n-2}$であるので，逐次的に`Q = Q @ G`とすれば`Q`に格納できる．\n",
    "しかし上で見たのと同様に，`G`を`Q`に右からかけると，`Q`の`p`列と`q`列にのみ影響するため，その2列を抜き出せばよい．"
   ]
  },
  {
   "cell_type": "code",
   "execution_count": null,
   "metadata": {},
   "outputs": [],
   "source": [
    "AG = Atri.copy()\n",
    "Q = np.eye(n)\n",
    "k = 0\n"
   ]
  },
  {
   "cell_type": "markdown",
   "metadata": {},
   "source": [
    "では直交行列$Q = G_1 G_2 \\cdots$と上三角行列$R$を得るために，以下のセルを何度か実行して，手動でkについてのループを回し確認する．\n",
    "\n",
    "なお`G`は実際には不要であるが，以下では確認のために`G`を表示している（advanced indexingを利用）．"
   ]
  },
  {
   "cell_type": "code",
   "execution_count": null,
   "metadata": {},
   "outputs": [],
   "source": [
    "with np.printoptions(formatter={'float': '{: 12.8f}'.format}, suppress=True, linewidth=100):\n",
    "    print(f\"k = {k} < {n-1} = n-1\")\n",
    "    assert k < n - 1\n",
    "    p, q = k, k + 1\n",
    "    print(f\"p = {p}, q = {q}\")\n",
    "\n",
    "    Rot2x2 = givens_r_matrix(AG[[p, q]][:, p])\n",
    "\n",
    "    print(f\"AG[[{p}, {q}]]\\n\", AG[[p, q]], sep='')\n",
    "    AG[[p, q]] = Rot2x2.T @ AG[[p, q]]\n",
    "    print(f\"R AG[[{p}, {q}]]\\n\", AG[[p, q]], sep='')\n",
    "    print(\"AG\\n\", AG, sep='')\n",
    "\n",
    "    G = np.eye(n)\n",
    "    G[[[p, p], [q, q]],\n",
    "      [[p, q], [p, q]]] = Rot2x2\n",
    "    print(\"G\\n\", G, sep='')\n",
    "\n",
    "    # Q = Q @ G\n",
    "    Q[:, [p, q]] = Q[:, [p, q]] @ Rot2x2\n",
    "    print(\"Q\\n\", Q, sep='')\n",
    "\n",
    "    k = k + 1\n",
    "    R = AG\n"
   ]
  },
  {
   "cell_type": "markdown",
   "metadata": {},
   "source": [
    "確認すると，$A_{\\mathrm{tri}} = QR$が求まっていることが分かる．"
   ]
  },
  {
   "cell_type": "code",
   "execution_count": null,
   "metadata": {},
   "outputs": [],
   "source": [
    "with np.printoptions(formatter={'float': '{: 12.8f}'.format}, suppress=True, linewidth=100):\n",
    "    print(\"QR == Atri\", np.allclose(Q @ R, Atri))\n"
   ]
  },
  {
   "cell_type": "markdown",
   "metadata": {},
   "source": [
    "#### 1.3.3.2. <a id='toc1_3_3_2_'></a>[ギブンス回転による三重対角行列の上三角化（QR分解）](#toc0_)\n",
    "\n",
    "以下が，三重対角行列に対するギブンス回転によるQR分解の関数である．"
   ]
  },
  {
   "cell_type": "code",
   "execution_count": null,
   "metadata": {},
   "outputs": [],
   "source": [
    "def qr_decom_by_givens(\n",
    "    A: np.ndarray,\n",
    ") -> Tuple[np.ndarray, np.ndarray]:\n",
    "    \"\"\"QR decomposition of a tridiagonal matrix by Givens rotation\n",
    "\n",
    "    Args:\n",
    "        A (np.ndarray): an nxn tridiagonal matrix\n",
    "\n",
    "    Returns:\n",
    "        Tuple[np.ndarray, np.ndarray]: orthogonal Q and upper traiangular R so that A == QR\n",
    "    \"\"\"\n",
    "    assert len(A.shape) == 2\n",
    "    assert A.shape[0] == A.shape[1]\n",
    "    # assert A should be tridiagonal\n",
    "    n = A.shape[0]\n",
    "\n",
    "    AG = A.copy()\n",
    "    Q = np.eye(n)\n",
    "\n",
    "    for k in range(n - 1):\n",
    "        p, q = k, k + 1\n",
    "        Rot2x2 = givens_r_matrix(AG[[p, q]][:, p])\n",
    "        AG[[p, q]] = Rot2x2.T @ AG[[p, q]]\n",
    "        Q[:, [p, q]] = Q[:, [p, q]] @ Rot2x2\n",
    "\n",
    "    R = AG\n",
    "    return Q, R\n"
   ]
  },
  {
   "cell_type": "markdown",
   "metadata": {},
   "source": [
    "以下のコードはQR分解を確認している．"
   ]
  },
  {
   "cell_type": "code",
   "execution_count": null,
   "metadata": {},
   "outputs": [],
   "source": [
    "with np.printoptions(formatter={'float': '{: 12.8f}'.format}, suppress=True, linewidth=100):\n",
    "    Q_givens, R_givens = qr_decom_by_givens(Atri)\n",
    "    print(\"Q\\n\", Q_givens, sep='')\n",
    "    print(\"R\\n\", R_givens, sep='')\n",
    "    print(\"Atri == QR\", np.allclose(Atri, Q_givens @ R_givens))\n",
    "    \n",
    "    Q_np, R_np = np.linalg.qr(Atri)\n",
    "    print(\"Q\\n\", Q_np, sep='')\n",
    "    print(\"R\\n\", R_np, sep='')\n",
    "    print(\"Q == Q_np\", np.allclose(Q_givens, Q_np))\n",
    "    print(\"R == R_np\", np.allclose(R_givens, R_np))\n"
   ]
  },
  {
   "cell_type": "markdown",
   "metadata": {},
   "source": [
    "### 1.3.4. <a id='toc1_3_4_'></a>[QR法のまとめ](#toc0_)\n",
    "\n",
    "上記の手順をまとめると以下のようになる．\n",
    "\n",
    "- ハウスホルダー変換により三重対角行列へ変換する\n",
    "    - $A_{\\mathrm{tri}} = Q_{\\mathrm{hh}}^T A Q_{\\mathrm{hh}}$\n",
    "- $A^{(0)} = A_{\\mathrm{tri}}, Q_X = I, k=0$\n",
    "- 収束するまで以下を反復\n",
    "    - ギブンス変換によるQR分解を行う：$A^{(k)} = Q^{(k)} R^{(k)}$\n",
    "    - $A^{(k+1)} \\leftarrow R^{(k)} Q^{(k)}$\n",
    "    - $Q_X \\leftarrow Q_X Q^{(k)}$\n",
    "\n",
    "これで対角行列\n",
    "\n",
    "- $D = A^{(k+1)}$\n",
    "\n",
    "が得られ，$A_{\\mathrm{tri}}$の対角化が得られた．\n",
    "\n",
    "\\begin{align*}\n",
    "    D &= Q_X^T A_{\\mathrm{tri}} Q_X \\\\\n",
    "    A_{\\mathrm{tri}} &= Q_X D Q_X^T\n",
    "\\end{align*}\n",
    "\n",
    "これから$A$の対角化が得られる．\n",
    "\n",
    "\\begin{align*}\n",
    "    A_{\\mathrm{tri}} &= Q_{\\mathrm{hh}}^T A Q_{\\mathrm{hh}} \\\\\n",
    "    A &= Q_{\\mathrm{hh}} A_{\\mathrm{tri}} Q_{\\mathrm{hh}}^T \\\\\n",
    "      &= Q_{\\mathrm{hh}} Q_X D Q_X^T Q_{\\mathrm{hh}}^T \\\\\n",
    "\\end{align*}\n",
    "\n",
    "以下のコードは$A_{\\mathrm{tri}}$の対角化を行っている．\n"
   ]
  },
  {
   "cell_type": "code",
   "execution_count": null,
   "metadata": {
    "scrolled": false
   },
   "outputs": [],
   "source": [
    "with np.printoptions(formatter={'float': '{: 12.8f}'.format}, suppress=True, linewidth=100):\n",
    "    Atri, Qhh = householder_transform(A)\n",
    "    print(\"Atri\\n\", Atri, sep='')\n",
    "    print(\"Atri == Qhh.T A Qhh\", np.allclose(Atri, Qhh.T @ A @ Qhh))\n",
    "\n",
    "    d, Qx = eigh_by_qr_method(Atri, qr_decomp=qr_decom_by_givens)\n",
    "    print(\"d\", d)\n",
    "    print(\"Qx\\n\", Qx, sep='')\n",
    "\n",
    "    print(\"Qx D Qx^T\\n\", Qx @ diag(d) @ Qx.T, sep='')\n",
    "    print(\"Qx^T Atri Qx\\n\", Qx.T @ Atri @ Qx, sep='')\n",
    "\n",
    "    print(\"Qx^T Atri Qx == D\", np.allclose(Qx.T @ Atri @ Qx, diag(d)))\n",
    "    print(\"Qx D Qx^T == Atri\", np.allclose(Qx @ diag(d) @ Qx.T, Atri))\n",
    "\n",
    "    print(\"|| Qx D Qx^T - Atri||\", np.linalg.norm(Qx @ diag(d) @ Qx.T - Atri))\n"
   ]
  },
  {
   "cell_type": "markdown",
   "metadata": {},
   "source": [
    "これで得られた$A$の固有ベクトル$U = Q_{\\mathrm{hh}} Q_X$は`np.linalg.eigh`で得られる固有ベクトルと比較してもほぼ一致していることがわかる．\n",
    "\n",
    "ただし計算誤差のため，`np.allclose`で一致しない場合もある．したがって，これを初期値としてレイリー商反復などを行うほうが精度はよい．"
   ]
  },
  {
   "cell_type": "code",
   "execution_count": null,
   "metadata": {},
   "outputs": [],
   "source": [
    "with np.printoptions(formatter={'float': '{: 12.8f}'.format}, suppress=True, linewidth=100):\n",
    "    d_np, U_np = np.linalg.eigh(A)\n",
    "    U_np = U_np[:, ::-1]\n",
    "    d_np = d_np[::-1]\n",
    "\n",
    "    print(\"d_np\", d_np)\n",
    "    print(\"d   \", d)\n",
    "    print(\"d == d_np\", np.allclose(d, d_np))\n",
    "\n",
    "    print(\"U_np\\n\", U_np, sep='')\n",
    "\n",
    "    U = Qhh @ Qx\n",
    "    print(\"U\\n\", U, sep='')\n",
    "\n",
    "    for i in range(len(U)):\n",
    "        print(\n",
    "            f\"Are {i}th columns of U and U_np equal?:\",\n",
    "            np.allclose(U[:, i], U_np[:, i]) or np.allclose(U[:, i], -U_np[:, i])\n",
    "            )\n"
   ]
  },
  {
   "cell_type": "markdown",
   "metadata": {},
   "source": [
    "## 1.4. <a id='toc1_4_'></a>[特異値分解（singular value decomposision）](#toc0_)\n",
    "\n",
    "実対称行列$A \\in R^{n \\times n}$に対する固有値分解は\n",
    "$$\n",
    "A = U D U^T\n",
    "$$\n",
    "であるが，非正方行列に対する分解が特異値分解である．\n",
    "\n",
    "一般の実行列$A \\in R^{m \\times n}$について\n",
    "$$\n",
    "A = U \\Sigma V^T\n",
    "$$\n",
    "を$A$の特異値分解と呼ぶ．\n",
    "ここで$U \\in R^{m \\times m}$と\n",
    "$V \\in R^{n \\times n}$は直交行列である．\n",
    "それぞれ列ベクトルで表すと\n",
    "\\begin{align*}\n",
    "U &= (\\boldsymbol{u}_1, \\ldots, \\boldsymbol{u}_m) \\\\\n",
    "V &= (\\boldsymbol{v}_1, \\ldots, \\boldsymbol{v}_n)\n",
    "\\end{align*}\n",
    "であり，$\\boldsymbol{u}_i \\in R^m$を左特異ベクトル，\n",
    "$\\boldsymbol{v}_i \\in R^n$を右特異ベクトルと呼ぶ．\n",
    "\n",
    "\n",
    "また$p=\\mathrm{min}(m, n)$として\n",
    "$$\n",
    "\\Sigma = \\mathrm{diag}(\\sigma_1, \\ldots, \\sigma_p) \\in R^{m \\times n}\n",
    "$$\n",
    "は対角行列と零行列からなる行列であり，対角部分の対角要素$\\sigma_i$を特異値（singular values）と呼ぶ．\n",
    "\n",
    "具体的には，\n",
    "$m=n$なら\n",
    "$$\n",
    "\\Sigma =\n",
    "\\begin{pmatrix}\n",
    "\\sigma_1 \\\\\n",
    "& \\sigma_2 \\\\\n",
    "&& \\ddots \\\\\n",
    "&&& \\sigma_n\n",
    "\\end{pmatrix}\n",
    "$$\n",
    "\n",
    "$m>n$なら\n",
    "$$\n",
    "\\Sigma =\n",
    "\\left(\n",
    "\\begin{array}{c}\n",
    "\\begin{array}{cccc}\n",
    "\\sigma_1 \\\\\n",
    "& \\sigma_2 \\\\\n",
    "&& \\ddots \\\\\n",
    "&&& \\sigma_n \\\\\n",
    "\\end{array}\n",
    "\\\\ \\hline\n",
    "\\begin{array}{ccc}\n",
    "\\\\\n",
    "& 0 \\\\\n",
    "\\\\\n",
    "\\end{array}\n",
    "\\end{array}\n",
    "\\right)\n",
    "$$\n",
    "\n",
    "$m<n$なら\n",
    "$$\n",
    "\\Sigma =\n",
    "\\left(\n",
    "\\begin{array}{c|c}\n",
    "\\begin{array}{cccc}\n",
    "\\sigma_1 \\\\\n",
    "& \\sigma_2 \\\\\n",
    "&& \\ddots \\\\\n",
    "&&& \\sigma_m \\\\\n",
    "\\end{array}\n",
    "&\n",
    "\\begin{array}{ccc}\n",
    "\\\\\n",
    "& 0 \\\\\n",
    "\\\\\n",
    "\\end{array}\n",
    "\\end{array}\n",
    "\\right)\n",
    "$$\n",
    "である．"
   ]
  },
  {
   "cell_type": "markdown",
   "metadata": {},
   "source": [
    "$m \\neq n$の場合には$\\Sigma$には零行列部分を含むため，$U$と$V$に不要な部分が生じる．\n",
    "\n",
    "$m > n$ならば\n",
    "\\begin{align*}\n",
    "U \\Sigma &=\n",
    "(\\boldsymbol{u}_1, \\ldots, \\boldsymbol{u}_m)\n",
    "\\left(\n",
    "\\begin{array}{c}\n",
    "\\begin{array}{cccc}\n",
    "\\sigma_1 \\\\\n",
    "& \\sigma_2 \\\\\n",
    "&& \\ddots \\\\\n",
    "&&& \\sigma_n \\\\\n",
    "\\end{array}\n",
    "\\\\ \\hline\n",
    "\\begin{array}{ccc}\n",
    "\\\\\n",
    "& 0 \\\\\n",
    "\\\\\n",
    "\\end{array}\n",
    "\\end{array}\n",
    "\\right) \\\\\n",
    "&=\n",
    "(\\sigma_1 \\boldsymbol{u}_1, \\ldots, \\sigma_n \\boldsymbol{u}_n)\n",
    "\\end{align*}\n",
    "\n",
    "同様にして$m < n$ならば\n",
    "\n",
    "\\begin{align*}\n",
    "\\Sigma V^T &=\n",
    "\\begin{pmatrix}\n",
    "\\sigma_m \\boldsymbol{v}_1^T \\\\\n",
    "\\vdots \\\\\n",
    "\\sigma_m \\boldsymbol{v}_m^T\n",
    "\\end{pmatrix}\n",
    "\\end{align*}\n",
    "\n",
    "したがって，すべての特異ベクトル\n",
    "$U \\in R^{m \\times m}$と$V \\in R^{n \\times n}$を求めずとも，\n",
    "最初の$p=\\mathrm{min}(m, n)$個の特異ベクトルだけを求めればよい．\n",
    "この場合には\n",
    "$U \\in R^{m \\times p}$と$V \\in R^{p \\times n}$となり，\n",
    "また$\\Sigma=\\mathrm{diag}(\\sigma_1, \\ldots, \\sigma_p) \\in R^{p \\times p}$である．\n",
    "\n",
    "すべての特異ベクトルを求める方法をfull SVD，\n",
    "必要な$p$個の特異ベクトルを求める方法をthin SVDなどと呼ぶ．\n",
    "一般的な応用ではthin SVDを利用するだけで十分であり，特異値分解といえばthin SVDを指すことが多いが，\n",
    "ライブラリの実装では計算量の多いfull SVDがデフォルトになっている場合があるので注意する必要がある．"
   ]
  },
  {
   "cell_type": "markdown",
   "metadata": {},
   "source": [
    "### 1.4.1. <a id='toc1_4_1_'></a>[固有値との関係](#toc0_)\n",
    "\n",
    "もし$A \\in R^{m \\times n}$によって対称行列が$A^T A \\in R^{n \\times n}$と表されるなら，\n",
    "\n",
    "\\begin{align*}\n",
    "A^T A &= V \\Sigma U^T U \\Sigma V^T \\\\\n",
    "&= V \\Sigma^2 V^T\n",
    "\\end{align*}\n",
    "\n",
    "となり，$A^T A$の固有値$\\lambda_i$は$A$の特異値$\\sigma_i$の2乗となることが分かる．\n",
    "$m > n$なら\n",
    "\n",
    "\\begin{align*}\n",
    "\\begin{pmatrix}\n",
    "\\lambda_1 \\\\\n",
    "& \\lambda_2 \\\\\n",
    "&& \\ddots \\\\\n",
    "&&& \\lambda_n\n",
    "\\end{pmatrix}\n",
    "=\n",
    "\\begin{pmatrix}\n",
    "\\sigma_1^2 \\\\\n",
    "& \\sigma_2^2 \\\\\n",
    "&& \\ddots \\\\\n",
    "&&& \\sigma_n^2\n",
    "\\end{pmatrix}\n",
    "\\end{align*}\n",
    "\n",
    "であり，$m < n$なら\n",
    "\n",
    "\\begin{align*}\n",
    "\\begin{pmatrix}\n",
    "\\lambda_1 \\\\\n",
    "& \\lambda_2 \\\\\n",
    "&& \\ddots \\\\\n",
    "&&& \\lambda_n\n",
    "\\end{pmatrix}\n",
    "=\n",
    "\\begin{pmatrix}\n",
    "\\sigma_1^2 \\\\\n",
    "& \\ddots \\\\\n",
    "&& \\sigma_m^2 \\\\\n",
    "&&& 0 \\\\\n",
    "&&&& \\ddots \\\\\n",
    "&&&&& 0 \\\\\n",
    "\\end{pmatrix}\n",
    "\\end{align*}\n",
    "\n",
    "であるので$\\lambda_{m+1}=\\cdots=\\lambda_n=0$である．\n"
   ]
  },
  {
   "cell_type": "markdown",
   "metadata": {},
   "source": [
    "### 1.4.2. <a id='toc1_4_2_'></a>[計算手法](#toc0_)\n",
    "\n",
    "様々な手法があるが，基本は固有値計算を利用している．\n",
    "$m > n$の場合に行列$A \\in R^{m \\times n}$の特異値分解$A=U \\Sigma V^T$を計算する単純な方法は以下のようなものである（実際にはもっと効率的で数値的に安定な方法が使われている）．\n",
    "\n",
    "1. $A^T A$に対して対角化を計算し，$V^T (A^T A) V = \\Sigma^2$を得る．\n",
    "2. $A V$をQR分解して$AV = UR$を得る．ここで$U$は直交行列（QRのQ）である．$R$は上三角行列であるが，この場合には対角行列になるため（証明略），$A = U R V^T$が得られる．"
   ]
  },
  {
   "cell_type": "markdown",
   "metadata": {},
   "source": [
    "### 1.4.3. <a id='toc1_4_3_'></a>[numpyとscipyの実装](#toc0_)\n",
    "\n",
    "それぞれのライブラリで以下の関数が提供されている．\n",
    "\n",
    "- 特異値のみを求める\n",
    "    - https://docs.scipy.org/doc/scipy/reference/generated/scipy.linalg.svdvals.html\n",
    "    - https://docs.scipy.org/doc/scipy/reference/generated/scipy.linalg.diagsvd.html\n",
    "- 特異値と特異ベクトルを求める\n",
    "    - https://docs.scipy.org/doc/scipy/reference/generated/scipy.linalg.svd.html\n",
    "    - https://numpy.org/devdocs/reference/generated/numpy.linalg.svd.html\n",
    "\n",
    "`svd()`のオプションには，特異ベクトルを求めるかどうかのフラグ（`compute_uv`）と，\n",
    "full SVDかthin SVDかを選択するフラグ（`full_matrices`）がある．\n",
    "\n",
    "返り値は，\n",
    "\n",
    "- `full_matrices=True`（デフォルト）の場合には（full SVD），$m \\times m$の$U$，$p$個の特異値からなるベクトル$s$，$n \\times n$の$V^T$である（$V$ではないことに注意）．\n",
    "- `full_matrices=False`の場合には（thin SVD），$m \\times p$の$U$，$p$個の特異値からなるベクトル$s$，$p \\times n$の$V^T$である．\n",
    "\n"
   ]
  },
  {
   "cell_type": "code",
   "execution_count": null,
   "metadata": {},
   "outputs": [],
   "source": [
    "m = 10\n",
    "n = 5\n",
    "A = np.random.rand(m, n)\n",
    "\n",
    "U, s, Vt = np.linalg.svd(A, full_matrices=False)\n",
    "print(\"U Sigma V^T == A\", np.allclose(U @ diag(s) @ Vt, A))\n",
    "\n",
    "with np.printoptions(formatter={'float': '{: 12.8f}'.format}, suppress=True, linewidth=100):\n",
    "    print(\"A\\n\", A, sep='')\n",
    "    print(\"U\\n\", U, sep='')\n",
    "    print(\"V\\n\", Vt.T, sep='')\n",
    "    print(\"s\\n\", s, sep='')\n"
   ]
  },
  {
   "cell_type": "markdown",
   "metadata": {},
   "source": [
    "## 1.5. <a id='toc1_5_'></a>[主成分分析（principal component analysis）](#toc0_)"
   ]
  },
  {
   "cell_type": "markdown",
   "metadata": {},
   "source": [
    "$n$次元のデータが$m$個ある場合に，\n",
    "データ$\\boldsymbol{x}_1, \\boldsymbol{x}_2, \\ldots, \\boldsymbol{x}_m \\in R^n$\n",
    "を行に持つ行列\n",
    "\n",
    "\\begin{align*}\n",
    "X =\n",
    "\\begin{pmatrix}\n",
    "\\boldsymbol{x}_1^T \\\\\n",
    "\\boldsymbol{x}_2^T \\\\\n",
    "\\vdots \\\\\n",
    "\\boldsymbol{x}_m^T\n",
    "\\end{pmatrix}\n",
    "=\n",
    "\\begin{pmatrix}\n",
    "x_{11} & x_{12} & \\cdots & x_{1n} \\\\\n",
    "x_{21} & x_{22} & \\cdots & x_{2n} \\\\\n",
    "\\vdots \\\\\n",
    "x_{m1} & x_{m2} & \\cdots & x_{mn} \\\\\n",
    "\\end{pmatrix}\n",
    "\\in R^{m \\times n}\n",
    "\\end{align*}\n",
    "\n",
    "で表し，これをデータ行列やデザイン行列と呼ぶ事がある．"
   ]
  },
  {
   "cell_type": "markdown",
   "metadata": {},
   "source": [
    "以下は有名なアヤメのデータセットを`X`に格納した例であり，$n=4$次元のデータが$m=150$個ある．"
   ]
  },
  {
   "cell_type": "code",
   "execution_count": null,
   "metadata": {},
   "outputs": [],
   "source": [
    "from sklearn.datasets import load_iris\n",
    "\n",
    "iris_data = load_iris()\n",
    "X = iris_data[\"data\"]\n",
    "\n",
    "m, n = X.shape\n",
    "print(f\"m={m}, n={n}\")\n",
    "print(\"first 10 samples\\n\", X[:10], sep='')\n"
   ]
  },
  {
   "cell_type": "markdown",
   "metadata": {},
   "source": [
    "この4つの特徴を持つデータを散布図行列でプロットしたのが以下の図である．"
   ]
  },
  {
   "cell_type": "code",
   "execution_count": null,
   "metadata": {},
   "outputs": [],
   "source": [
    "import pandas as pd\n",
    "\n",
    "df = pd.DataFrame(\n",
    "    X,\n",
    "    columns=iris_data.feature_names,\n",
    ")\n",
    "\n",
    "pd.plotting.scatter_matrix(\n",
    "    df,\n",
    "    c=iris_data.target,\n",
    "    figsize=(10, 10),\n",
    "    s=70,\n",
    "    edgecolor=\"k\",\n",
    "    linewidth=0.3,\n",
    "    alpha=1,\n",
    ")\n",
    "plt.show()\n"
   ]
  },
  {
   "cell_type": "markdown",
   "metadata": {},
   "source": [
    "この4つの特徴は互いに関連がありそうであるが，どの特徴がどれだけ重要であるのかの判断には，\n",
    "4次元データですら直感は働かない．\n",
    "このような多次元データを統計的に解析する方法は多変量解析（multivariate analysis）と呼ばれており，\n",
    "多数の手法が存在する．\n",
    "\n",
    "最も広く用いられる手法の1つ主成分分析（principal component analysis, PCA）である．\n",
    "これはデータの相関関係を利用して，\n",
    "多変量データの特徴を最もよく表す主成分（principal component）と呼ばれる\n",
    "多次元空間中の単位方向ベクトルを求める．\n",
    "\n"
   ]
  },
  {
   "cell_type": "markdown",
   "metadata": {},
   "source": [
    "ある$n$次元データを表すベクトル\n",
    "$$\n",
    "\\boldsymbol{x} = (x_{1}, x_{2}, \\ldots, x_{n})^T \\in R^n\n",
    "$$\n",
    "が与えられたとして，その各要素がどれだけ重要であるかを表す重みを\n",
    "$$\n",
    "\\boldsymbol{w} = (w_{1}, w_{2}, \\ldots, w_{n})^T \\in R^n\n",
    "$$\n",
    "とする．そして，この重みで重みづけた新しい変数を\n",
    "\\begin{align*}\n",
    "z &= w_1 x_{1} + w_2 x_{2} + \\cdots + w_n x_{n} \\\\\n",
    "&= \\boldsymbol{w}^T \\boldsymbol{x}\n",
    "\\end{align*}\n",
    "とする．\n",
    "ただし重みは正規化してあるとする．つまり\n",
    "\\begin{align*}\n",
    "\\| \\boldsymbol{w} \\|_2^2 = 1\n",
    "\\end{align*}\n",
    "とする．\n",
    "\n",
    "このときどのような$z$であれば，つまりどのような重み$\\boldsymbol{w}$\n",
    "（もっと言えば$R^n$の単位方向ベクトル）を用いれば，\n",
    "データ$\\boldsymbol{x}$を解析するために有用であるかの定義は，手法によって異なる．\n",
    "主成分分析では，\n",
    "データ$\\boldsymbol{x}_1, \\boldsymbol{x}_2, \\ldots, \\boldsymbol{x}_m$に対する変換後の変数\n",
    "$z_1, z_2, \\ldots, z_m$が最も散らばる（分散が大きくなる）方向を\n",
    "$\\boldsymbol{w}$として採用し，それを第1主成分（1st principal component）や第1主成分方向と呼ぶ．\n",
    "なお$z_i$は$\\boldsymbol{x}_i$の$\\boldsymbol{w}$への射影であり，\n",
    "主成分得点や主成分スコアなどと呼ばれる．\n"
   ]
  },
  {
   "cell_type": "code",
   "execution_count": null,
   "metadata": {},
   "outputs": [],
   "source": [
    "x = X[0]\n",
    "print(\"x\", x)\n",
    "\n",
    "rng = np.random.default_rng()\n",
    "w = rng.random(size=(X.shape[1]))\n",
    "w /= np.linalg.norm(w)\n",
    "print(\"w\", w)\n",
    "\n",
    "z = w @ x\n",
    "print(\"z\", z)\n"
   ]
  },
  {
   "cell_type": "markdown",
   "metadata": {},
   "source": [
    "\n",
    "これは$z_i$の分散$\\sigma^2$を最大化する最適化問題を解くことになる．\n",
    "$$\n",
    "\\sigma^2 = \\frac{1}{m} \\sum_{i=1}^m (z_i - \\bar{z})^2\n",
    "$$\n",
    "ここで$\\bar{z}$は$z_i$の平均である．\n",
    "\\begin{align*}\n",
    "\\bar{z}\n",
    "&= \\frac{1}{m} \\sum_{i=1}^m z_i \\\\\n",
    "&= \\frac{1}{m} \\sum_{i=1}^m \\boldsymbol{w}^T \\boldsymbol{x}_i \\\\\n",
    "&= \\boldsymbol{w}^T \\bar{\\boldsymbol{x}}\n",
    "\\end{align*}\n",
    "ここで$\\bar{\\boldsymbol{x}}$はデータの平均ベクトルである．\n",
    "\\begin{align*}\n",
    "\\bar{\\boldsymbol{x}} &= \\frac{1}{m} \\sum_{i=1}^m \\boldsymbol{x}_i\n",
    "\\end{align*}\n",
    "実際には$\\bar{\\boldsymbol{x}} = \\boldsymbol{0}, \\bar{z} = 0$となるように，\n",
    "データから平均を除去しておくことが多い．\n"
   ]
  },
  {
   "cell_type": "code",
   "execution_count": null,
   "metadata": {},
   "outputs": [],
   "source": [
    "x_bar = X.mean(axis=0)\n",
    "print(\"x_bar\", x_bar)\n",
    "\n",
    "z_bar = w @ x_bar\n",
    "print(\"z_bar\", z_bar)\n"
   ]
  },
  {
   "cell_type": "markdown",
   "metadata": {},
   "source": [
    "\n",
    "これを用いると，\n",
    "\\begin{align*}\n",
    "\\sigma^2\n",
    "&= \\frac{1}{m-1} \\sum_{i=1}^m (z_i - \\bar{z})^2 \\\\\n",
    "&= \\frac{1}{m-1} \\sum_{i=1}^m (\\boldsymbol{w}^T \\boldsymbol{x}_i - \\boldsymbol{w}^T \\bar{\\boldsymbol{x}})^2 \\\\\n",
    "&= \\frac{1}{m-1} \\sum_{i=1}^m \\boldsymbol{w}^T (\\boldsymbol{x}_i - \\bar{\\boldsymbol{x}})(\\boldsymbol{x}_i - \\bar{\\boldsymbol{x}})^T \\boldsymbol{w}  \\\\\n",
    "&= \\boldsymbol{w}^T S \\boldsymbol{w}\n",
    "\\end{align*}\n",
    "ここで$S$はデータの共分散行列である．\n",
    "\\begin{align*}\n",
    "S\n",
    "&= \\frac{1}{m-1} \\sum_{i=1}^m (\\boldsymbol{x}_i - \\bar{\\boldsymbol{x}})(\\boldsymbol{x}_i - \\bar{\\boldsymbol{x}})^T \\\\\n",
    "&= \\frac{1}{m-1} (X'_{\\mathrm{row}})^T X'_{\\mathrm{row}}\n",
    "\\end{align*}\n",
    "なお$X'_{\\mathrm{row}}$は平均行ベクトルを除去した行$\\boldsymbol{x}_i - \\bar{\\boldsymbol{x}}$で構成したデータ行列である．\n"
   ]
  },
  {
   "cell_type": "code",
   "execution_count": null,
   "metadata": {},
   "outputs": [],
   "source": [
    "S = np.cov(X, rowvar=False)\n",
    "print(\"S\\n\", S, sep='')\n"
   ]
  },
  {
   "cell_type": "markdown",
   "metadata": {},
   "source": [
    "### 1.5.1. <a id='toc1_5_1_'></a>[第1主成分](#toc0_)\n",
    "\n",
    "したがって，最適化問題は以下のようになる．\n",
    "$$\n",
    "\\max_{\\boldsymbol{w}} \\boldsymbol{w}^T S \\boldsymbol{w} \\quad \\text{s.t.} \\quad \\| \\boldsymbol{w} \\|_2^2 = 1\n",
    "$$\n",
    "ラグランジュ乗数を$\\lambda$とすると，ラグランジュ関数は\n",
    "$$\n",
    "L = \\boldsymbol{w}^T S \\boldsymbol{w} + \\lambda (\\boldsymbol{w}^T \\boldsymbol{w} - 1)\n",
    "$$\n",
    "これを$\\boldsymbol{w}$で微分して0として解くと\n",
    "\\begin{align*}\n",
    "S \\boldsymbol{w} = \\lambda \\boldsymbol{w}\n",
    "\\end{align*}\n",
    "となり，つまり$\\boldsymbol{w}$は$S$の固有ベクトルであることが分かる．すると\n",
    "\\begin{align*}\n",
    "\\boldsymbol{w}^T S \\boldsymbol{w} = \\lambda\n",
    "\\end{align*}\n",
    "であるので，$\\boldsymbol{w}^T S \\boldsymbol{w}$を最大化するためには$\\lambda$が最大固有値$\\lambda_1$でなければならず，\n",
    "したがって$\\boldsymbol{w}$は$S$の第1固有ベクトルであり，これが求めるべき第1主成分である．\n"
   ]
  },
  {
   "cell_type": "markdown",
   "metadata": {},
   "source": [
    "以下では，ランダムなベクトルで$\\boldsymbol{w}^T S \\boldsymbol{w}$を計算しても，第1固有ベクトルで計算したほうが値が大きいことを確認している．"
   ]
  },
  {
   "cell_type": "code",
   "execution_count": null,
   "metadata": {},
   "outputs": [],
   "source": [
    "print(\"w: random\")\n",
    "for _ in range(10):\n",
    "    w = rng.random(size=(X.shape[1]))\n",
    "    w /= np.linalg.norm(w)\n",
    "    print(\"w^T S w: \", w @ S @ w)\n",
    "\n",
    "print(\"w: 1st eigen vector\")\n",
    "s, U = np.linalg.eigh(S)\n",
    "print(\"w^T S w: \", U[:, -1] @ S @ U[:, -1])\n"
   ]
  },
  {
   "cell_type": "markdown",
   "metadata": {},
   "source": [
    "### 1.5.2. <a id='toc1_5_2_'></a>[第$i$主成分](#toc0_)\n",
    "\n",
    "$d$次元データ$\\boldsymbol{x}_i$を第1主成分方向へ射影して1次元データ$z_i$が得られたが，\n",
    "これだけではあまりに情報が少ない．\n",
    "そこで，第1主成分$\\boldsymbol{w}_1$に直交する方向の中から射影後のデータの分散が最も大きくなる方向を第2主成分$\\boldsymbol{w}_2$とし，\n",
    "これを求めることを考える．\n",
    "同様に第1主成分$\\boldsymbol{w}_1$から第$i-1$主成分$\\boldsymbol{w}_{i-1}$に直交する方向の中から射影後のデータの分散が最も大きくなる方向を第$i$主成分$\\boldsymbol{w}_i$とする．\n",
    "\n",
    "証明もできるが，上記の2次形式\n",
    "\\begin{align*}\n",
    "\\boldsymbol{w}^T S \\boldsymbol{w} = \\lambda\n",
    "\\end{align*}\n",
    "を考えれば，\n",
    "第2主成分$\\boldsymbol{w}_2$は2番目に大きい固有値に対応する固有ベクトルであり，\n",
    "第$i$主成分$\\boldsymbol{w}_i$は$i$番目に大きい固有値に対応する固有ベクトルであることが分かる．\n",
    "これを$i=1, 2, \\ldots, n$について行い，それらを並べた行列を\n",
    "\\begin{align*}\n",
    "W = (\\boldsymbol{w}_1, \\boldsymbol{w}_2, \\ldots, \\boldsymbol{w}_n) \\in R^{n \\times n}\n",
    "\\end{align*}\n",
    "とおき，主成分スコアを並べたベクトルを$\\boldsymbol{z} = (z_1, z_2, \\ldots, z_n)^T$と書くと，\n",
    "\\begin{align*}\n",
    "\\boldsymbol{z}_i = W^T (\\boldsymbol{x}_i - \\bar{\\boldsymbol{x}})\n",
    "\\end{align*}\n",
    "もしくは（平均を除去した）データ行列$X'_{\\mathrm{row}}$を用いて書けば\n",
    "\\begin{align*}\n",
    "Z = X'_{\\mathrm{row}} W\n",
    "\\end{align*}\n",
    "となる．ここで$Z$は$\\boldsymbol{z}_i$を行に持つ行列である．\n",
    "\n",
    "$i \\neq j$について$\\boldsymbol{w}_i$と$\\boldsymbol{w}_j$は直交するように選ぶことにしているため，\n",
    "$W$は直交行列であり，$R^n$の基底変換を表している．\n",
    "主成分分析などの統計的解析の文脈では主軸変換とも呼ばれる．\n"
   ]
  },
  {
   "cell_type": "markdown",
   "metadata": {},
   "source": [
    "以下では，第1固有ベクトルに直交するランダムなベクトルで$\\boldsymbol{w}^T S \\boldsymbol{w}$を計算しても，第2固有ベクトルで計算したほうが値が大きいことを確認している．"
   ]
  },
  {
   "cell_type": "code",
   "execution_count": null,
   "metadata": {},
   "outputs": [],
   "source": [
    "print(\"w: random but orthogonal to 1st eigen vector\")\n",
    "for _ in range(10):\n",
    "    w = rng.random(size=(X.shape[1]))\n",
    "    w -= (U[:, -1] @ w) * U[:, -1]\n",
    "    w /= np.linalg.norm(w)\n",
    "    print(\"w^T S w: \", w @ S @ w, w @ U[:, -1])\n",
    "\n",
    "print(\"w: 2nd eigen vector\")\n",
    "print(\"w^T S w: \", U[:, -2] @ S @ U[:, -2], U[:, -2] @ U[:, -1])\n"
   ]
  },
  {
   "cell_type": "markdown",
   "metadata": {},
   "source": [
    "### 1.5.3. <a id='toc1_5_3_'></a>[次元削減](#toc0_)\n",
    "\n",
    "$n$番目までの主成分スコアをすべて利用する必要はない．\n",
    "主成分分析を用いた統計的解析では，\n",
    "寄与の大きい（第1主成分から始まる）最初のほうの主成分を利用するだけで十分である事が多く，\n",
    "とくに第1主成分と第2主成分を用いて2つの主成分スコア$z_1, z_2$を2次元プロットし，\n",
    "データの分布を可視化して解釈することが多い．\n",
    "\n",
    "またパターン認識や機械学習において$n$次元データを扱う場合，$n$が大きいことが多く，\n",
    "例えば画像認識では小さい画像でも$n=256\\times256=65,536$画素を含むため，\n",
    "そのままでは計算量の観点からも（$O(n^2)$や$O(n^3)$の行列計算やメモリが必要），\n",
    "性能の観点からも（高次元データは汎化性能が落ちることが多い）得策ではない．\n",
    "そのため，$n$よりも十分小さい$p \\ll n$を用いて$p$次元にデータを圧縮することがよく行われる．\n",
    "これを次元削減や特徴変換と呼び，\n",
    "主成分分析を用いて次元削減する場合には\n",
    "$p$個の主成分スコア$z_1, \\ldots, z_p$を用いることになる．\n",
    "このような次元削減後のデータをパターン認識や機械学習では特徴量（feature）と呼ぶ．\n"
   ]
  },
  {
   "cell_type": "markdown",
   "metadata": {},
   "source": [
    "次元削減をしない場合には$W$は直交行列であるため，データに$W^T$をかけて主成分スコアに変換し，それに$W$をかけると，また元のデータに戻る．\n",
    "\\begin{align*}\n",
    "\\boldsymbol{z}_i &= W^T (\\boldsymbol{x}_i - \\bar{\\boldsymbol{x}})  \\in R^m\\\\\n",
    "W \\boldsymbol{z}_i&= W W^T (\\boldsymbol{x}_i - \\bar{\\boldsymbol{x}})\n",
    "= \\boldsymbol{x}_i - \\bar{\\boldsymbol{x}}  \\in R^m\n",
    "\\end{align*}\n",
    "\n",
    "次元削減をする場合は$W \\in R^{m \\times p}$は列直交であり，\n",
    "$W W^T$は$m \\times m$行列であるが単位行列ではない．そのため\n",
    "\\begin{align*}\n",
    "\\boldsymbol{z}_i &= W^T (\\boldsymbol{x}_i - \\bar{\\boldsymbol{x}}) \\in R^p\n",
    "\\end{align*}\n",
    "に対して$W^T \\in R^{p \\times m}$を適用しても元のデータには戻らない．\n",
    "\\begin{align*}\n",
    "W \\boldsymbol{z}_i&= W W^T (\\boldsymbol{x}_i - \\bar{\\boldsymbol{x}})\n",
    "\\neq \\boldsymbol{x}_i - \\bar{\\boldsymbol{x}}\n",
    "\\end{align*}\n",
    "しかしこれは，$W$の$p$個の列（主成分）が張る部分空間への射影による近似になっており，\n",
    "次元$p$を固定した場合の最良近似であることが示せる．"
   ]
  },
  {
   "cell_type": "markdown",
   "metadata": {},
   "source": [
    "### 1.5.4. <a id='toc1_5_4_'></a>[累積寄与率](#toc0_)\n",
    "\n",
    "次元削減をどの程度行えばよいかは，データや応用に依存する．\n",
    "一般的には累積寄与率（cumurative contribution rate）を用いて判断することが多い．\n",
    "\n",
    "第$i$主成分に対応する固有値を$\\lambda_i$とすると，\n",
    "第1主成分は最も分散が大きい方向であるため，\n",
    "$\\lambda_1$は$\\lambda_2, \\lambda_3, \\ldots$よりも（一般的に非常に）大きい．\n",
    "もし$\\lambda_i = 0$であれば\n",
    "$\\boldsymbol{w}_i^T S \\boldsymbol{w}_i = 0$であり，\n",
    "つまりその第$i$主成分への射影後の分散が0であることを意味する．\n",
    "0でなくとも非常に小さければ，その主成分へ射影してもほとんどデータの分布を表していないことになる．\n",
    "したがって，固有値がある程度大きい第$p$主成分までを利用すればよいことになる．\n",
    "\n",
    "全固有値の和に対する固有値の比を寄与率と呼び，\n",
    "$$\n",
    "\\gamma_i = \\frac{\\lambda_i}{\\sum_{k=1}^n \\lambda_k}\n",
    "$$\n",
    "で表す．これを第1主成分から第$p$主成分までの和を取った（累積した）ものが累積寄与率\n",
    "\n",
    "\\begin{align*}\n",
    "\\sum_{i=1}^p \\gamma_i\n",
    "=\n",
    "\\frac{\\sum_{i=1}^p \\lambda_i}{\\sum_{k=1}^n \\lambda_k}\n",
    "\\end{align*}\n",
    "\n",
    "である．$p=n$の場合には累積寄与率は1である．\n",
    "\n",
    "一般的には累積寄与率が90%や95%になる次元$p$までの主成分を利用することが多い．\n",
    "\n"
   ]
  },
  {
   "cell_type": "markdown",
   "metadata": {},
   "source": [
    "### 1.5.5. <a id='toc1_5_5_'></a>[実装（$m > n$の場合）](#toc0_)\n",
    "\n",
    "データ行列`X`の共分散行列を計算し，主成分を求める．\n",
    "\n",
    "改めて計算し直そう．\n",
    "まず`X`の列方向に平均を取り平均ベクトルを計算し，ブロードキャストで各データから平均ベクトルを引く．"
   ]
  },
  {
   "cell_type": "code",
   "execution_count": null,
   "metadata": {},
   "outputs": [],
   "source": [
    "x_bar = X.mean(axis=0)\n",
    "X_decentered = X - x_bar\n"
   ]
  },
  {
   "cell_type": "markdown",
   "metadata": {},
   "source": [
    "次に共分散行列を構成する．\n",
    "なお不偏分散を用いるため$\\frac{1}{m-1}$で割っている．（当然`np.cov()`でよいが復習である）"
   ]
  },
  {
   "cell_type": "code",
   "execution_count": null,
   "metadata": {},
   "outputs": [],
   "source": [
    "S = (X_decentered.T @ X_decentered) / (m - 1)\n",
    "\n",
    "with np.printoptions(formatter={'float': '{: 12.8f}'.format}, suppress=True, linewidth=100):\n",
    "    print(\"S\\n\", S, sep='')\n"
   ]
  },
  {
   "cell_type": "markdown",
   "metadata": {},
   "source": [
    "共分散行列`S`は実対称行列であるので，`eigh()`を用いて固有値と固有ベクトルを求める．\n",
    "なお数式と一致させると分かりやすいため，\n",
    "最大固有値が最初の要素`[0]`に来るように，スライシング`[::-1]`で逆順に入れ替えている．"
   ]
  },
  {
   "cell_type": "code",
   "execution_count": null,
   "metadata": {},
   "outputs": [],
   "source": [
    "d, W = np.linalg.eigh(S)\n",
    "d = d[::-1]\n",
    "W = W[:, ::-1]\n",
    "print(\"eigenvalues\", d)\n"
   ]
  },
  {
   "cell_type": "markdown",
   "metadata": {},
   "source": [
    "寄与率と累積寄与率を求める．以下では寄与率ベクトルから累積寄与率ベクトルを計算するために累積和を計算する`np.cumsum`を利用している．\n",
    "\n",
    "- https://numpy.org/doc/stable/reference/generated/numpy.cumsum.html"
   ]
  },
  {
   "cell_type": "code",
   "execution_count": null,
   "metadata": {},
   "outputs": [],
   "source": [
    "with np.printoptions(formatter={'float': '{: 12.8f}'.format}, suppress=True):\n",
    "    g = d / d.sum()\n",
    "    print(\"contribution rate           \", g)\n",
    "    cum_g = np.cumsum(g)\n",
    "    print(\"cumurative contribution rate\", cum_g)\n"
   ]
  },
  {
   "cell_type": "markdown",
   "metadata": {},
   "source": [
    "寄与率と累積寄与率をプロットすると以下のようになる．\n",
    "このデータ（iris）では，第1主成分が92%を占めており，1つの軸でほとんどのデータを表せる（「説明できる」と表現する）．"
   ]
  },
  {
   "cell_type": "code",
   "execution_count": null,
   "metadata": {},
   "outputs": [],
   "source": [
    "fig = plt.figure(figsize=(10,3))\n",
    "ax = fig.subplots()\n",
    "\n",
    "ax.plot(g, '.-', label=\"contribution rate\")\n",
    "ax.plot(cum_g, '.-', label=\"cumularive contribution rate\")\n",
    "\n",
    "ax.set_xlabel(\"i\")\n",
    "ax.set_ylabel(\"%\")\n",
    "ax.set_ylim(0)\n",
    "\n",
    "ax.legend()\n",
    "plt.show()\n"
   ]
  },
  {
   "cell_type": "markdown",
   "metadata": {},
   "source": [
    "主成分スコアの行列`Z`を計算し，第1主成分と第2主成分のスコアをプロットしてみる．"
   ]
  },
  {
   "cell_type": "code",
   "execution_count": null,
   "metadata": {},
   "outputs": [],
   "source": [
    "Z = X_decentered @ W[:, :2]\n",
    "Z.shape"
   ]
  },
  {
   "cell_type": "code",
   "execution_count": null,
   "metadata": {},
   "outputs": [],
   "source": [
    "fig = plt.figure()\n",
    "ax = fig.subplots()\n",
    "\n",
    "ax.scatter(\n",
    "    Z[:, 0],\n",
    "    Z[:, 1],\n",
    "    c=iris_data.target,\n",
    "    edgecolor=\"k\",\n",
    "    linewidth=0.5,\n",
    "    s=40,\n",
    ")\n",
    "ax.axis(\"equal\")\n",
    "ax.set_xlabel(\"1st principal component direction\")\n",
    "ax.set_ylabel(\"2nd principal component direction\")\n",
    "\n",
    "plt.show()\n"
   ]
  },
  {
   "cell_type": "markdown",
   "metadata": {},
   "source": [
    "### 1.5.6. <a id='toc1_5_6_'></a>[scikit-learnによる実装](#toc0_)\n",
    "\n",
    "scikit-learnには主成分分析が実装されており，\n",
    "`skearn.decomposition.PCA`\n",
    "で利用できる．\n",
    "\n",
    "- https://scikit-learn.org/stable/modules/generated/sklearn.decomposition.PCA.html\n",
    "\n",
    "まず`PCA()`で`pca`オブジェクトを作成し，\n",
    "次にデータ行列`X`を`pca.fit()`に与える．\n",
    "この時点で主成分分析が行われ，内部的に主成分が保持される．\n",
    "主成分スコアを計算するには`pca.transform()`にデータ行列`X`を与えると，\n",
    "返り値に主成分スコア行列$Z$が得られる．\n",
    "\n",
    "主成分を計算するデータ行列と主成分スコアを計算するデータ行列が同一であれば，\n",
    "`pca.fit_transform()`で一度に行える．\n",
    "この場合も，主成分を別のデータに適用するなら`pca.transform()`が利用できる．\n"
   ]
  },
  {
   "cell_type": "code",
   "execution_count": null,
   "metadata": {},
   "outputs": [],
   "source": [
    "from sklearn.decomposition import PCA\n",
    "\n",
    "fig = plt.figure()\n",
    "ax = fig.subplots()\n",
    "\n",
    "pca = PCA()\n",
    "\n",
    "pca.fit(X)\n",
    "Z = pca.transform(X)\n",
    "# Z = pca.fit_transform(X)\n",
    "\n",
    "ax.scatter(\n",
    "    Z[:, 0],\n",
    "    Z[:, 1],\n",
    "    c=iris_data.target,\n",
    "    edgecolor=\"k\",\n",
    "    linewidth=0.5,\n",
    "    s=40,\n",
    ")\n",
    "ax.axis(\"equal\")\n",
    "ax.set_xlabel(\"1st principal component direction\")\n",
    "ax.set_ylabel(\"2nd principal component direction\")\n",
    "\n",
    "plt.show()\n"
   ]
  },
  {
   "cell_type": "markdown",
   "metadata": {},
   "source": [
    "主成分分析オブジェクト`pca`には主成分`W`，固有値（分散）`d`，データ平均ベクトル`x_bar`などが保持されており，\n",
    "それぞれ以下のように取得できる．なお主成分方向の向きは任意であるため，主成分ベクトルは符号を除いて同一である．"
   ]
  },
  {
   "cell_type": "code",
   "execution_count": null,
   "metadata": {},
   "outputs": [],
   "source": [
    "pca.components_.T, W\n"
   ]
  },
  {
   "cell_type": "code",
   "execution_count": null,
   "metadata": {},
   "outputs": [],
   "source": [
    "pca.explained_variance_, d\n"
   ]
  },
  {
   "cell_type": "code",
   "execution_count": null,
   "metadata": {},
   "outputs": [],
   "source": [
    "pca.mean_, x_bar\n"
   ]
  },
  {
   "cell_type": "code",
   "execution_count": null,
   "metadata": {},
   "outputs": [],
   "source": [
    "pca.explained_variance_ratio_, g\n"
   ]
  },
  {
   "cell_type": "markdown",
   "metadata": {},
   "source": [
    "### 1.5.7. <a id='toc1_5_7_'></a>[実装（$m < n$の場合）：顔画像データセットの主成分分析](#toc0_)\n",
    "\n",
    "ここではsklearnのデータセットとして準備されているOlivetti facesデータセットを用いる．\n",
    "\n",
    "- https://scikit-learn.org/stable/modules/generated/sklearn.datasets.fetch_olivetti_faces.html\n",
    "\n",
    "このデータセットには400枚の顔画像があり，それぞれが4096次元のベクトルである（64x64画像を表す）．"
   ]
  },
  {
   "cell_type": "code",
   "execution_count": null,
   "metadata": {},
   "outputs": [],
   "source": [
    "face_dataset = fetch_olivetti_faces(shuffle=False)\n",
    "X = face_dataset.data\n",
    "\n",
    "m, n = X.shape\n",
    "print(f\"m={m}, n={n}\")\n"
   ]
  },
  {
   "cell_type": "markdown",
   "metadata": {},
   "source": [
    "0枚目の画像は以下の通り．64x64にreshpaeしてから`imshow()`で表示する．"
   ]
  },
  {
   "cell_type": "code",
   "execution_count": null,
   "metadata": {},
   "outputs": [],
   "source": [
    "imshow(X[0].reshape(64, 64), vmin=0, vmax=1, cmap=\"gray\")\n",
    "plt.axis('off')\n",
    "plt.title(\"0th image\")\n",
    "plt.show()\n"
   ]
  },
  {
   "cell_type": "markdown",
   "metadata": {},
   "source": [
    "400枚の画像は以下の通り．"
   ]
  },
  {
   "cell_type": "code",
   "execution_count": null,
   "metadata": {},
   "outputs": [],
   "source": [
    "plt.figure(figsize=(20, 20))\n",
    "for i, p in enumerate(X):\n",
    "    plt.subplot(20, 20, i + 1)\n",
    "    plt.imshow(X[i].reshape(64, 64), vmin=0, vmax=1, cmap=\"gray\")\n",
    "    plt.axis('off')\n"
   ]
  },
  {
   "cell_type": "markdown",
   "metadata": {},
   "source": [
    "平均ベクトルは画像としてreshapeして表示すると，平均顔画像となる．\n"
   ]
  },
  {
   "cell_type": "code",
   "execution_count": null,
   "metadata": {},
   "outputs": [],
   "source": [
    "x_bar = X.mean(axis=0)\n"
   ]
  },
  {
   "cell_type": "code",
   "execution_count": null,
   "metadata": {},
   "outputs": [],
   "source": [
    "imshow(x_bar.reshape(64, 64), cmap=\"gray\")\n",
    "plt.axis('off')\n",
    "plt.title(\"mean image\")\n",
    "plt.show()\n"
   ]
  },
  {
   "cell_type": "markdown",
   "metadata": {},
   "source": [
    "ではこのデータで共分散行列を作成し，主成分分析のために固有値を計算することを考える．\n",
    "先程のアヤメデータのような$m=140, n=4$の場合とは異なり，\n",
    "ここでは$m=400, n=4096$であるため，共分散行列は$4096 \\times 4096$となる．"
   ]
  },
  {
   "cell_type": "code",
   "execution_count": null,
   "metadata": {},
   "outputs": [],
   "source": [
    "X_decentered = X - x_bar\n",
    "# S = (X_decentered.T @ X_decentered) / (m - 1)\n",
    "# eigh(S)\n"
   ]
  },
  {
   "cell_type": "markdown",
   "metadata": {},
   "source": [
    "`S`を保持するためのメモリ使用量は$O(n^2)$であり，\n",
    "float64では8bytes * 4092 * 4096 = 約130MBである．\n",
    "計算中にメモリ領域はさらに必要となる．\n",
    "この程度ならまだ計算できるかもしれないが，\n",
    "一般的なサイズの画像では共分散行列をメモリに乗せることも難しく，\n",
    "また$O(n^3)$の計算量も非常に大きくなる．\n",
    "\n",
    "そのため$m \\ll n$の場合には，以下のような手順を考える．\n",
    "\n",
    "\\begin{align*}\n",
    "S \\boldsymbol{w}_i &= \\lambda_i \\boldsymbol{w}_i \\\\\n",
    "\\frac{1}{m-1} X^T X \\boldsymbol{w}_i &= \\lambda_i \\boldsymbol{w}_i \\\\\n",
    "\\frac{1}{m-1} X X^T X \\boldsymbol{w}_i &= \\lambda_i X \\boldsymbol{w}_i \\\\\n",
    "\\left( \\frac{1}{m-1} X X^T \\right) (X \\boldsymbol{w}_i) &= \\lambda_i (X \\boldsymbol{w}_i) \\\\\n",
    "\\end{align*}\n",
    "\n",
    "つまり\n",
    "$X \\boldsymbol{w}_i$は\n",
    "$\\frac{1}{m-1} X X^T$の\n",
    "固有値$\\lambda_i$に対応する固有ベクトルであることが分かる．\n",
    "$X X^T$は$m \\times m$であるため，必要メモリ量は$O(m^2)$，計算量は$O(m^3)$となるため，\n",
    "$\\frac{1}{m-1} X X^T$の\n",
    "固有値$\\lambda_i$に対応する固有ベクトルを$\\boldsymbol{v}_i \\in R^m$を求めることができる．\n",
    "すると，今度は逆に以下のような導出が得られる．\n",
    "\n",
    "\\begin{align*}\n",
    "\\frac{1}{m-1} X X^T \\boldsymbol{v}_i &= \\lambda_i \\boldsymbol{v}_i \\\\\n",
    "\\frac{1}{m-1} X^T X X^T \\boldsymbol{v}_i &= \\lambda_i X^T \\boldsymbol{v}_i \\\\\n",
    "\\left( \\frac{1}{m-1} X^T X \\right) (X^T \\boldsymbol{v}_i) &= \\lambda_i (X^T \\boldsymbol{v}_i) \\\\\n",
    "\\end{align*}\n",
    "\n",
    "つまり\n",
    "$X^T \\boldsymbol{v}_i$は\n",
    "$\\frac{1}{m-1} X^T X$の\n",
    "固有値$\\lambda_i$に対応する固有ベクトル，すなわち主成分$\\boldsymbol{w}_i \\in R^n$であることが分かる．\n",
    "どちらの固有ベクトルも\n",
    "$\\| \\boldsymbol{v}_i \\| = \\| \\boldsymbol{w}_i \\| = 1$と正規化されているとすると，\n",
    "次式が得られる．\n",
    "\\begin{align*}\n",
    "\\boldsymbol{w}_i = \\frac{1}{\\sqrt{(m-1)\\lambda_i}} X^T \\boldsymbol{v}_i\n",
    "\\end{align*}"
   ]
  },
  {
   "cell_type": "markdown",
   "metadata": {},
   "source": [
    "ではこの方法で，$X X^T$の固有ベクトル`V`を計算し，\n",
    "$X^T X$の固有ベクトル`W`に変換する．"
   ]
  },
  {
   "cell_type": "code",
   "execution_count": null,
   "metadata": {},
   "outputs": [],
   "source": [
    "S = (X_decentered @ X_decentered.T) / (m - 1)\n",
    "d, V = eigh(S)\n",
    "\n",
    "d = d[::-1]\n",
    "V = V[:, ::-1]\n",
    "\n",
    "W = X_decentered.T @ (V / np.sqrt(d * (m - 1)))  # using broadcast\n"
   ]
  },
  {
   "cell_type": "markdown",
   "metadata": {},
   "source": [
    "これはPCAの主成分に一致する．"
   ]
  },
  {
   "cell_type": "code",
   "execution_count": null,
   "metadata": {},
   "outputs": [],
   "source": [
    "pca = PCA()\n",
    "pca.fit(X)\n"
   ]
  },
  {
   "cell_type": "markdown",
   "metadata": {},
   "source": [
    "ただし計算精度の問題で，`np.allclose()`ではTrueにならないが，ノルムを計算するとほぼ一致していることが分かる．"
   ]
  },
  {
   "cell_type": "code",
   "execution_count": null,
   "metadata": {},
   "outputs": [],
   "source": [
    "print(\"1st pc == w_0\", np.allclose(pca.components_[0], W[:, 0]))\n",
    "print(\"|| 1st pc == w_0 ||\", norm(pca.components_[0] - W[:, 0]))\n",
    "\n",
    "with np.printoptions(formatter={'float': '{: 12.8f}'.format}, suppress=True, linewidth=100):\n",
    "    print(pca.components_[0])\n",
    "    print(W[:, 0])\n"
   ]
  },
  {
   "cell_type": "markdown",
   "metadata": {},
   "source": [
    "ここで$X \\in R^{m \\times n}$についての特異値分解\n",
    "$$\n",
    "X = U \\Sigma V^T\n",
    "$$\n",
    "を考えると，\n",
    "\\begin{align*}\n",
    "X^T X &= V \\Sigma U^T U \\Sigma V^T = V \\Sigma^2 V^T \\in R^{n \\times n} \\\\\n",
    "X X^T &= U \\Sigma V^T V \\Sigma U^T = U \\Sigma^2 U^T \\in R^{m \\times m}\n",
    "\\end{align*}\n",
    "であり，つまり\n",
    "$X^T X$の固有ベクトル$W$は\n",
    "$X$の右特異ベクトル$V$であることが分かり，\n",
    "それを求めるためには\n",
    "$X$の左特異ベクトル$U$を求めれば良いことが分かる．\n",
    "\n",
    "`sklearn.decomposition.PCA`などの実際の主成分分析の実装の内部では，\n",
    "特異値分解を用いて主成分を計算している．\n",
    "\n",
    "- https://scikit-learn.org/stable/modules/generated/sklearn.decomposition.PCA.html\n",
    "    - https://github.com/scikit-learn/scikit-learn/blob/093e0cf14aff026cca6097e8c42f83b735d26358/sklearn/decomposition/_pca.py#L607"
   ]
  },
  {
   "cell_type": "code",
   "execution_count": null,
   "metadata": {},
   "outputs": [],
   "source": [
    "U, s, Vt = np.linalg.svd(X_decentered, full_matrices=False)\n"
   ]
  },
  {
   "cell_type": "code",
   "execution_count": null,
   "metadata": {},
   "outputs": [],
   "source": [
    "print(\"w_0 == vt_0\", np.allclose(W[:, 0], Vt[0]))\n",
    "\n",
    "with np.printoptions(formatter={'float': '{: 12.8f}'.format}, suppress=True, linewidth=100):\n",
    "    print(W[:, 0])\n",
    "    print(Vt[0])\n"
   ]
  },
  {
   "cell_type": "markdown",
   "metadata": {},
   "source": [
    "#### 1.5.7.1. <a id='toc1_5_7_1_'></a>[固有顔](#toc0_)\n",
    "\n",
    "主成分$\\boldsymbol{w}_i$はデータ$\\boldsymbol{x}_i$と同じ$n$次元ベクトルであり，\n",
    "データが画像の場合には，画像として表示することができる．\n",
    "顔画像の場合にはこれを固有顔（eigenface）と呼び，\n",
    "顔画像データの認識や解析において用いられていた．\n",
    "\n",
    "以下は平均顔と，第5主成分までの固有顔を表示した例である．\n",
    "これをみると，第1主成分は画像全体の大きな明暗の変動を表しており，\n",
    "第2主成分は左右の照明変化を，\n",
    "第3主成分は上下方向の照明変化を表していると解釈できる．\n"
   ]
  },
  {
   "cell_type": "code",
   "execution_count": null,
   "metadata": {},
   "outputs": [],
   "source": [
    "p = 5\n",
    "plt.figure(figsize=(p * 2, 5))\n",
    "\n",
    "plt.subplot(1, p + 1, 1)\n",
    "plt.imshow(pca.mean_.reshape(64, 64),cmap=\"gray\")\n",
    "plt.axis('off')\n",
    "plt.title(f\"mean face\", fontsize=8)\n",
    "\n",
    "for i in range(p):\n",
    "    plt.subplot(1, p + 1, i + 2)\n",
    "    plt.imshow(pca.components_[i].reshape(64, 64), cmap=\"gray\")\n",
    "    plt.axis('off')\n",
    "    plt.title(f\"{i + 1}-th eigenface\", fontsize=8)\n",
    "\n",
    "plt.show()\n"
   ]
  },
  {
   "cell_type": "markdown",
   "metadata": {},
   "source": [
    "この顔画像データでは，累積寄与率が90%になるには第50主成分程度が必要なことが分かる．"
   ]
  },
  {
   "cell_type": "code",
   "execution_count": null,
   "metadata": {},
   "outputs": [],
   "source": [
    "fig = plt.figure(figsize=(10, 3))\n",
    "ax = fig.subplots()\n",
    "\n",
    "ax.plot(pca.explained_variance_ratio_, '-', label=\"contribution rate\")\n",
    "ax.plot(np.cumsum(pca.explained_variance_ratio_), '-', label=\"cumularive contribution rate\")\n",
    "\n",
    "ax.set_xlabel(\"i\")\n",
    "ax.set_ylabel(\"%\")\n",
    "ax.set_ylim(0, 1)\n",
    "\n",
    "ax.legend()\n",
    "plt.show()\n"
   ]
  },
  {
   "cell_type": "markdown",
   "metadata": {},
   "source": []
  },
  {
   "cell_type": "markdown",
   "metadata": {},
   "source": []
  },
  {
   "cell_type": "markdown",
   "metadata": {},
   "source": [
    "## 1.6. <a id='toc1_6_'></a>[課題](#toc0_)"
   ]
  },
  {
   "cell_type": "markdown",
   "metadata": {},
   "source": [
    "### 1.6.1. <a id='toc1_6_1_'></a>[課題05-1：QR法による固有値分解](#toc0_)\n",
    "\n",
    "QR法の手順は，\n",
    "ハウスホルダー変換により三重対角行列へ変換し，\n",
    "ギブンス変換によるQR分解を反復するものだった．\n",
    "これにより全ての固有値と固有ベクトル（の近似値）が求められる．\n",
    "\n",
    "しかしQR法の反復の収束条件として，主対角成分が変化しなくなるだけでは精度が悪いため（まだ非対角成分が0に収束していない），\n",
    "優対角成分が変化しなくなるまでとしていた．しかしその分，QR法の反復回数が増えていた．\n",
    "\n",
    "そこで，QR法の反復の収束条件には主対角成分が変化しなくなるまでとし，\n",
    "その時点での近似固有値（主対角成分）と近似固有ベクトルを初期値とするレイリー商反復を用いて，\n",
    "各固有値と固有ベクトルを更新することを考える．\n",
    "\n",
    "1. この方法で`A`の固有値分解（対角化）を行う処理を，1つの関数関数`my_eigh()`として作成せよ．\n",
    "    - 返り値は`A`の固有値からなるベクトルと，固有ベクトルからなる直交行列とする（`np.linalg.eigh()`と同様）．\n",
    "2. 得られた固有値と固有ベクトルが，`np.linalg.eigh()`の結果と一致していることを確かめよ（一致していない場合は原因を考えよ）．\n"
   ]
  },
  {
   "cell_type": "markdown",
   "metadata": {},
   "source": [
    "### 1.6.2. <a id='toc1_6_2_'></a>[課題05-2：ハウスホルダー変換によるQR分解](#toc0_)\n",
    "\n",
    "#### 1.6.2.1. <a id='toc1_6_2_1_'></a>[「一般の行列を三重対角行列に変換する」ためのハウスホルダー法の復習](#toc0_)\n",
    "\n",
    "「一般の行列を三重対角行列に変換する」ハウスホルダー法では，\n",
    "以下のように，鏡映変換$Q_1$を左から$A$にかけて，$A$の第1列の第3要素以下を0にすることを考えた．\n",
    "\n",
    "\\begin{align*}\n",
    "Q_1\n",
    "\\begin{pmatrix}\n",
    "a_{11} & a_{12} & \\cdots & a_{1n} \\\\\n",
    "a_{21} & a_{22} & \\cdots & a_{2n} \\\\\n",
    "a_{31} & a_{32} & \\cdots & a_{3n} \\\\\n",
    "\\vdots & \\vdots & \\ddots & \\vdots \\\\\n",
    "a_{n1} & a_{n2} & \\cdots & a_{nn}\n",
    "\\end{pmatrix}\n",
    "=\n",
    "\\begin{pmatrix}\n",
    "a_{11} & a_{12} & \\cdots & a_{1n} \\\\\n",
    "* & * & \\cdots & * \\\\\n",
    "0 & * & \\cdots & * \\\\\n",
    "\\vdots & \\vdots & \\ddots & \\vdots \\\\\n",
    "0 & * & \\cdots & *\n",
    "\\end{pmatrix}\n",
    "\\end{align*}\n",
    "\n",
    "三重対角行列に変換するためにはこのような$Q_{\\mathrm{hh}} = Q_1 Q_2 \\cdots Q_{n-2}$を左右からかけて\n",
    "\n",
    "$$\n",
    "A_{\\mathrm{tri}} = Q_{\\mathrm{hh}}^T A Q_{\\mathrm{hh}}\n",
    "$$\n",
    "\n",
    "と$A$を三重対角行列へ変換した．\n",
    "\n",
    "\n",
    "#### 1.6.2.2. <a id='toc1_6_2_2_'></a>[「一般の行列をQR分解する」ためのハウスホルダー変換](#toc0_)\n",
    "\n",
    "これと同じ要領で「一般の行列をQR分解する」ためにハウスホルダー変換を行うには，\n",
    "以下のように，ハウスホルダー行列$H_1$を左から$A$にかけて，$A$の第1列の第2要素以下を0にすることを考える．\n",
    "\n",
    "\\begin{align*}\n",
    "H_1\n",
    "\\begin{pmatrix}\n",
    "a_{11} & a_{12} & \\cdots & a_{1n} \\\\\n",
    "a_{21} & a_{22} & \\cdots & a_{2n} \\\\\n",
    "a_{31} & a_{32} & \\cdots & a_{3n} \\\\\n",
    "\\vdots & \\vdots & \\ddots & \\vdots \\\\\n",
    "a_{n1} & a_{n2} & \\cdots & a_{nn}\n",
    "\\end{pmatrix}\n",
    "=\n",
    "\\begin{pmatrix}\n",
    "* & * & \\cdots & * \\\\\n",
    "0 & * & \\cdots & * \\\\\n",
    "0 & * & \\cdots & * \\\\\n",
    "\\vdots & \\vdots & \\ddots & \\vdots \\\\\n",
    "0 & * & \\cdots & *\n",
    "\\end{pmatrix}\n",
    "\\end{align*}\n",
    "\n",
    "三重対角行列に変換するためにはこのような$H_1, H_2, \\cdots, H_{n-1}$を左からかけて\n",
    "\n",
    "\\begin{align*}\n",
    "H_{n-1} \\cdots H_2 H_1 A &= R \\\\\n",
    "A &= (H_{n-1} \\cdots H_2 H_1)^{-1} R \\\\\n",
    "&= (H_1 H_2 \\cdots H_{n-1}) R \\\\\n",
    "&= QR\n",
    "\\end{align*}\n",
    "\n",
    "と$A$をQR分解する．\n",
    "\n",
    "\n",
    "#### 1.6.2.3. <a id='toc1_6_2_3_'></a>[課題](#toc0_)\n",
    "\n",
    "1. 上記の手順で`A`のQR分解を実装し，1つの関数関数`my_qr_decomp()`として作成せよ．返り値は直交行列`Q`と上三角行列`R`とする．\n",
    "2. 得られたQR分解が`np.linalg.qr`（または`scipy.linalg.qr`）の結果と一致していることを確かめよ（一致していない場合は原因を考えよ）．"
   ]
  },
  {
   "cell_type": "markdown",
   "metadata": {},
   "source": [
    "### 1.6.3. <a id='toc1_6_3_'></a>[課題05-3：SVDによる主成分分析](#toc0_)\n",
    "\n",
    "行列$A \\in R^{m \\times n}$の特異値分解$A=U \\Sigma V^T$を計算する以下の単純な方法を関数`my_svd()`として実装し，\n",
    "以下の2つの場合の数値例を計算せよ（プロット・画像なども比較せよ）．\n",
    "\n",
    "$m > n$の場合：\n",
    "1. $A^T A$に対して対角化を計算し，$V^T (A^T A) V = \\Sigma^2$を得る．\n",
    "1. $A V$をQR分解して$AV = UR$を得る．\n",
    "1. SVD結果$A = U R V^T$を出力する．返り値は特異値の順番も含めて`np.linalg.svd`と同様の形式とする．\n",
    "\n",
    "$m < n$の場合：\n",
    "1. $A A^T$に対して対角化を計算し，$U^T (A A^T) U = \\Sigma^2$を得る．\n",
    "1. $A^T U$をQR分解して$A^T U = VR$を得る．\n",
    "1. SVD結果$A = U R V^T$を出力する．返り値は特異値の順番も含めて`np.linalg.svd`と同様の形式とする．\n",
    "\n",
    "条件：\n",
    "\n",
    "- QR分解には`my_qr_decomp()`を使用すること．\n",
    "  - ただし`np.linalg.qr()`と結果が一致していることを確認すること．\n",
    "- 対角化には`my_eigh()`を使用すること．\n",
    "  - ただし`np.linalg.eigh()`と結果が一致していることを確認すること．\n",
    "- `my_svd()`の結果が`np.linalg.svd()`の結果と一致することを確認すること．\n",
    "- 数値例のデータには，$m > n$の場合はアヤメのデータセットを，$m < n$の場合は顔画像のデータセットを利用すること．\n",
    "    - 主成分分析としての出力は`sklearn.decomposition.PCA`の結果と一致することを確かめよ（一致していない場合は原因を考えよ）．\n"
   ]
  },
  {
   "cell_type": "markdown",
   "metadata": {},
   "source": []
  }
 ],
 "metadata": {
  "kernelspec": {
   "display_name": "Python 3 (ipykernel)",
   "language": "python",
   "name": "python3"
  },
  "language_info": {
   "codemirror_mode": {
    "name": "ipython",
    "version": 3
   },
   "file_extension": ".py",
   "mimetype": "text/x-python",
   "name": "python",
   "nbconvert_exporter": "python",
   "pygments_lexer": "ipython3",
   "version": "3.11.5"
  }
 },
 "nbformat": 4,
 "nbformat_minor": 2
}
